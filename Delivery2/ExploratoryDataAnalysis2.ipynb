{
 "cells": [
  {
   "cell_type": "markdown",
   "metadata": {},
   "source": [
    "# **Data Acquisition and Model Training Report :Artificial Intelligence Project**\n",
    "\n",
    "This project is a part of the Artificial Intelligence course at Icesi University. This project is developed by:\n",
    "- Juan David Garzón\n",
    "- Cristian Perafan\n",
    "- Geovanny Quintero"
   ]
  },
  {
   "cell_type": "markdown",
   "metadata": {},
   "source": [
    "# **Neccessary Libraries**"
   ]
  },
  {
   "cell_type": "code",
   "execution_count": 106,
   "metadata": {},
   "outputs": [],
   "source": [
    "import numpy as np\n",
    "import pandas as pd\n",
    "import matplotlib.pyplot as plt\n",
    "from tqdm import tqdm # Import tqdm for processing bar\n",
    "tqdm.pandas()\n",
    "from pathlib import Path # Import Path to handle file paths\n",
    "from imblearn.under_sampling import RandomUnderSampler\n",
    "import librosa"
   ]
  },
  {
   "cell_type": "markdown",
   "metadata": {},
   "source": [
    "# **Data Loading and Merging**"
   ]
  },
  {
   "cell_type": "markdown",
   "metadata": {},
   "source": [
    "Valid training data:"
   ]
  },
  {
   "cell_type": "code",
   "execution_count": 107,
   "metadata": {},
   "outputs": [],
   "source": [
    "valid_train_df = pd.read_csv('../data/cv-valid-train.csv')"
   ]
  },
  {
   "cell_type": "markdown",
   "metadata": {},
   "source": [
    "Other data:"
   ]
  },
  {
   "cell_type": "code",
   "execution_count": 108,
   "metadata": {},
   "outputs": [],
   "source": [
    "other_df = pd.read_csv('../data/cv-other-train.csv')"
   ]
  },
  {
   "cell_type": "markdown",
   "metadata": {},
   "source": [
    "Merging the two datasets:"
   ]
  },
  {
   "cell_type": "code",
   "execution_count": 109,
   "metadata": {},
   "outputs": [],
   "source": [
    "info_df = pd.concat([valid_train_df, other_df])"
   ]
  },
  {
   "cell_type": "markdown",
   "metadata": {},
   "source": [
    "Shape of the merged dataset:"
   ]
  },
  {
   "cell_type": "code",
   "execution_count": 110,
   "metadata": {},
   "outputs": [
    {
     "data": {
      "text/plain": [
       "(340911, 8)"
      ]
     },
     "execution_count": 110,
     "metadata": {},
     "output_type": "execute_result"
    }
   ],
   "source": [
    "info_df.shape"
   ]
  },
  {
   "cell_type": "code",
   "execution_count": 111,
   "metadata": {},
   "outputs": [
    {
     "data": {
      "text/html": [
       "<div>\n",
       "<style scoped>\n",
       "    .dataframe tbody tr th:only-of-type {\n",
       "        vertical-align: middle;\n",
       "    }\n",
       "\n",
       "    .dataframe tbody tr th {\n",
       "        vertical-align: top;\n",
       "    }\n",
       "\n",
       "    .dataframe thead th {\n",
       "        text-align: right;\n",
       "    }\n",
       "</style>\n",
       "<table border=\"1\" class=\"dataframe\">\n",
       "  <thead>\n",
       "    <tr style=\"text-align: right;\">\n",
       "      <th></th>\n",
       "      <th>filename</th>\n",
       "      <th>text</th>\n",
       "      <th>up_votes</th>\n",
       "      <th>down_votes</th>\n",
       "      <th>age</th>\n",
       "      <th>gender</th>\n",
       "      <th>accent</th>\n",
       "      <th>duration</th>\n",
       "    </tr>\n",
       "  </thead>\n",
       "  <tbody>\n",
       "    <tr>\n",
       "      <th>0</th>\n",
       "      <td>cv-valid-train/sample-000000.mp3</td>\n",
       "      <td>learn to recognize omens and follow them the o...</td>\n",
       "      <td>1</td>\n",
       "      <td>0</td>\n",
       "      <td>NaN</td>\n",
       "      <td>NaN</td>\n",
       "      <td>NaN</td>\n",
       "      <td>NaN</td>\n",
       "    </tr>\n",
       "    <tr>\n",
       "      <th>1</th>\n",
       "      <td>cv-valid-train/sample-000001.mp3</td>\n",
       "      <td>everything in the universe evolved he said</td>\n",
       "      <td>1</td>\n",
       "      <td>0</td>\n",
       "      <td>NaN</td>\n",
       "      <td>NaN</td>\n",
       "      <td>NaN</td>\n",
       "      <td>NaN</td>\n",
       "    </tr>\n",
       "    <tr>\n",
       "      <th>2</th>\n",
       "      <td>cv-valid-train/sample-000002.mp3</td>\n",
       "      <td>you came so that you could learn about your dr...</td>\n",
       "      <td>1</td>\n",
       "      <td>0</td>\n",
       "      <td>NaN</td>\n",
       "      <td>NaN</td>\n",
       "      <td>NaN</td>\n",
       "      <td>NaN</td>\n",
       "    </tr>\n",
       "    <tr>\n",
       "      <th>3</th>\n",
       "      <td>cv-valid-train/sample-000003.mp3</td>\n",
       "      <td>so now i fear nothing because it was those ome...</td>\n",
       "      <td>1</td>\n",
       "      <td>0</td>\n",
       "      <td>NaN</td>\n",
       "      <td>NaN</td>\n",
       "      <td>NaN</td>\n",
       "      <td>NaN</td>\n",
       "    </tr>\n",
       "    <tr>\n",
       "      <th>4</th>\n",
       "      <td>cv-valid-train/sample-000004.mp3</td>\n",
       "      <td>if you start your emails with greetings let me...</td>\n",
       "      <td>3</td>\n",
       "      <td>2</td>\n",
       "      <td>NaN</td>\n",
       "      <td>NaN</td>\n",
       "      <td>NaN</td>\n",
       "      <td>NaN</td>\n",
       "    </tr>\n",
       "  </tbody>\n",
       "</table>\n",
       "</div>"
      ],
      "text/plain": [
       "                           filename  \\\n",
       "0  cv-valid-train/sample-000000.mp3   \n",
       "1  cv-valid-train/sample-000001.mp3   \n",
       "2  cv-valid-train/sample-000002.mp3   \n",
       "3  cv-valid-train/sample-000003.mp3   \n",
       "4  cv-valid-train/sample-000004.mp3   \n",
       "\n",
       "                                                text  up_votes  down_votes  \\\n",
       "0  learn to recognize omens and follow them the o...         1           0   \n",
       "1         everything in the universe evolved he said         1           0   \n",
       "2  you came so that you could learn about your dr...         1           0   \n",
       "3  so now i fear nothing because it was those ome...         1           0   \n",
       "4  if you start your emails with greetings let me...         3           2   \n",
       "\n",
       "   age gender accent  duration  \n",
       "0  NaN    NaN    NaN       NaN  \n",
       "1  NaN    NaN    NaN       NaN  \n",
       "2  NaN    NaN    NaN       NaN  \n",
       "3  NaN    NaN    NaN       NaN  \n",
       "4  NaN    NaN    NaN       NaN  "
      ]
     },
     "execution_count": 111,
     "metadata": {},
     "output_type": "execute_result"
    }
   ],
   "source": [
    "info_df.head() "
   ]
  },
  {
   "cell_type": "markdown",
   "metadata": {},
   "source": [
    "The next step is to assing the target variable to each  audio file path in the dataset. To do this, we will use the next function `load_data` that will return a dataframe with the path of the audio file and the audio file name."
   ]
  },
  {
   "cell_type": "code",
   "execution_count": 112,
   "metadata": {},
   "outputs": [],
   "source": [
    "filename = \"..\\data\\cv-valid-train\\cv-valid-train\\sample-0.wav\"\n",
    "\n"
   ]
  },
  {
   "cell_type": "code",
   "execution_count": 113,
   "metadata": {},
   "outputs": [
    {
     "name": "stderr",
     "output_type": "stream",
     "text": [
      "195776it [00:04, 48062.80it/s] \n",
      "145135it [00:03, 36882.84it/s]\n"
     ]
    }
   ],
   "source": [
    "# Function to load the sound data\n",
    "def load_data():\n",
    "    file_list = [] # List to store the file paths\n",
    "    full_list = [] # List to store the labels\n",
    "\n",
    "    for folder in ['cv-valid-train','cv-other-train']:\n",
    "        for file in tqdm(Path(f'../data/{folder}').glob('**/*.mp3')):\n",
    "            # Extract the label from the file path by splitting the path and getting the second last element\n",
    "            full_path = str(file)\n",
    "            f_name = full_path.split(\"\\\\\")[-1]\n",
    "            file_name = f\"{folder}/{f_name}\"\n",
    "            file_list.append(file_name)\n",
    "            full_list.append(full_path)\n",
    "       \n",
    "    df = pd.DataFrame()\n",
    "    df['filename'] = file_list\n",
    "    df['file'] = full_list\n",
    "\n",
    "    return df\n",
    "\n",
    "df = load_data()"
   ]
  },
  {
   "cell_type": "code",
   "execution_count": 114,
   "metadata": {},
   "outputs": [
    {
     "data": {
      "text/html": [
       "<div>\n",
       "<style scoped>\n",
       "    .dataframe tbody tr th:only-of-type {\n",
       "        vertical-align: middle;\n",
       "    }\n",
       "\n",
       "    .dataframe tbody tr th {\n",
       "        vertical-align: top;\n",
       "    }\n",
       "\n",
       "    .dataframe thead th {\n",
       "        text-align: right;\n",
       "    }\n",
       "</style>\n",
       "<table border=\"1\" class=\"dataframe\">\n",
       "  <thead>\n",
       "    <tr style=\"text-align: right;\">\n",
       "      <th></th>\n",
       "      <th>filename</th>\n",
       "      <th>file</th>\n",
       "    </tr>\n",
       "  </thead>\n",
       "  <tbody>\n",
       "    <tr>\n",
       "      <th>0</th>\n",
       "      <td>cv-valid-train/sample-000000.mp3</td>\n",
       "      <td>..\\data\\cv-valid-train\\cv-valid-train\\sample-0...</td>\n",
       "    </tr>\n",
       "    <tr>\n",
       "      <th>1</th>\n",
       "      <td>cv-valid-train/sample-000001.mp3</td>\n",
       "      <td>..\\data\\cv-valid-train\\cv-valid-train\\sample-0...</td>\n",
       "    </tr>\n",
       "    <tr>\n",
       "      <th>2</th>\n",
       "      <td>cv-valid-train/sample-000002.mp3</td>\n",
       "      <td>..\\data\\cv-valid-train\\cv-valid-train\\sample-0...</td>\n",
       "    </tr>\n",
       "    <tr>\n",
       "      <th>3</th>\n",
       "      <td>cv-valid-train/sample-000003.mp3</td>\n",
       "      <td>..\\data\\cv-valid-train\\cv-valid-train\\sample-0...</td>\n",
       "    </tr>\n",
       "    <tr>\n",
       "      <th>4</th>\n",
       "      <td>cv-valid-train/sample-000004.mp3</td>\n",
       "      <td>..\\data\\cv-valid-train\\cv-valid-train\\sample-0...</td>\n",
       "    </tr>\n",
       "  </tbody>\n",
       "</table>\n",
       "</div>"
      ],
      "text/plain": [
       "                           filename  \\\n",
       "0  cv-valid-train/sample-000000.mp3   \n",
       "1  cv-valid-train/sample-000001.mp3   \n",
       "2  cv-valid-train/sample-000002.mp3   \n",
       "3  cv-valid-train/sample-000003.mp3   \n",
       "4  cv-valid-train/sample-000004.mp3   \n",
       "\n",
       "                                                file  \n",
       "0  ..\\data\\cv-valid-train\\cv-valid-train\\sample-0...  \n",
       "1  ..\\data\\cv-valid-train\\cv-valid-train\\sample-0...  \n",
       "2  ..\\data\\cv-valid-train\\cv-valid-train\\sample-0...  \n",
       "3  ..\\data\\cv-valid-train\\cv-valid-train\\sample-0...  \n",
       "4  ..\\data\\cv-valid-train\\cv-valid-train\\sample-0...  "
      ]
     },
     "execution_count": 114,
     "metadata": {},
     "output_type": "execute_result"
    }
   ],
   "source": [
    "df.head()"
   ]
  },
  {
   "cell_type": "markdown",
   "metadata": {},
   "source": [
    "Shape of the file information dataframe:"
   ]
  },
  {
   "cell_type": "code",
   "execution_count": 115,
   "metadata": {},
   "outputs": [
    {
     "data": {
      "text/plain": [
       "(340911, 2)"
      ]
     },
     "execution_count": 115,
     "metadata": {},
     "output_type": "execute_result"
    }
   ],
   "source": [
    "df.shape"
   ]
  },
  {
   "cell_type": "markdown",
   "metadata": {},
   "source": [
    "The next step is merge the dataframe `info_df` that contains the characteristics of the audio files with the dataframe `df` that contains the path of the audio files"
   ]
  },
  {
   "cell_type": "code",
   "execution_count": 116,
   "metadata": {},
   "outputs": [],
   "source": [
    "df = df.merge(info_df, on='filename', how='inner')\n"
   ]
  },
  {
   "cell_type": "markdown",
   "metadata": {},
   "source": [
    "Now we have a dataframe with the file path information and the characteristics of the audio files."
   ]
  },
  {
   "cell_type": "code",
   "execution_count": 117,
   "metadata": {},
   "outputs": [
    {
     "data": {
      "text/html": [
       "<div>\n",
       "<style scoped>\n",
       "    .dataframe tbody tr th:only-of-type {\n",
       "        vertical-align: middle;\n",
       "    }\n",
       "\n",
       "    .dataframe tbody tr th {\n",
       "        vertical-align: top;\n",
       "    }\n",
       "\n",
       "    .dataframe thead th {\n",
       "        text-align: right;\n",
       "    }\n",
       "</style>\n",
       "<table border=\"1\" class=\"dataframe\">\n",
       "  <thead>\n",
       "    <tr style=\"text-align: right;\">\n",
       "      <th></th>\n",
       "      <th>filename</th>\n",
       "      <th>file</th>\n",
       "      <th>text</th>\n",
       "      <th>up_votes</th>\n",
       "      <th>down_votes</th>\n",
       "      <th>age</th>\n",
       "      <th>gender</th>\n",
       "      <th>accent</th>\n",
       "      <th>duration</th>\n",
       "    </tr>\n",
       "  </thead>\n",
       "  <tbody>\n",
       "    <tr>\n",
       "      <th>0</th>\n",
       "      <td>cv-valid-train/sample-000000.mp3</td>\n",
       "      <td>..\\data\\cv-valid-train\\cv-valid-train\\sample-0...</td>\n",
       "      <td>learn to recognize omens and follow them the o...</td>\n",
       "      <td>1</td>\n",
       "      <td>0</td>\n",
       "      <td>NaN</td>\n",
       "      <td>NaN</td>\n",
       "      <td>NaN</td>\n",
       "      <td>NaN</td>\n",
       "    </tr>\n",
       "    <tr>\n",
       "      <th>1</th>\n",
       "      <td>cv-valid-train/sample-000001.mp3</td>\n",
       "      <td>..\\data\\cv-valid-train\\cv-valid-train\\sample-0...</td>\n",
       "      <td>everything in the universe evolved he said</td>\n",
       "      <td>1</td>\n",
       "      <td>0</td>\n",
       "      <td>NaN</td>\n",
       "      <td>NaN</td>\n",
       "      <td>NaN</td>\n",
       "      <td>NaN</td>\n",
       "    </tr>\n",
       "    <tr>\n",
       "      <th>2</th>\n",
       "      <td>cv-valid-train/sample-000002.mp3</td>\n",
       "      <td>..\\data\\cv-valid-train\\cv-valid-train\\sample-0...</td>\n",
       "      <td>you came so that you could learn about your dr...</td>\n",
       "      <td>1</td>\n",
       "      <td>0</td>\n",
       "      <td>NaN</td>\n",
       "      <td>NaN</td>\n",
       "      <td>NaN</td>\n",
       "      <td>NaN</td>\n",
       "    </tr>\n",
       "    <tr>\n",
       "      <th>3</th>\n",
       "      <td>cv-valid-train/sample-000003.mp3</td>\n",
       "      <td>..\\data\\cv-valid-train\\cv-valid-train\\sample-0...</td>\n",
       "      <td>so now i fear nothing because it was those ome...</td>\n",
       "      <td>1</td>\n",
       "      <td>0</td>\n",
       "      <td>NaN</td>\n",
       "      <td>NaN</td>\n",
       "      <td>NaN</td>\n",
       "      <td>NaN</td>\n",
       "    </tr>\n",
       "    <tr>\n",
       "      <th>4</th>\n",
       "      <td>cv-valid-train/sample-000004.mp3</td>\n",
       "      <td>..\\data\\cv-valid-train\\cv-valid-train\\sample-0...</td>\n",
       "      <td>if you start your emails with greetings let me...</td>\n",
       "      <td>3</td>\n",
       "      <td>2</td>\n",
       "      <td>NaN</td>\n",
       "      <td>NaN</td>\n",
       "      <td>NaN</td>\n",
       "      <td>NaN</td>\n",
       "    </tr>\n",
       "  </tbody>\n",
       "</table>\n",
       "</div>"
      ],
      "text/plain": [
       "                           filename  \\\n",
       "0  cv-valid-train/sample-000000.mp3   \n",
       "1  cv-valid-train/sample-000001.mp3   \n",
       "2  cv-valid-train/sample-000002.mp3   \n",
       "3  cv-valid-train/sample-000003.mp3   \n",
       "4  cv-valid-train/sample-000004.mp3   \n",
       "\n",
       "                                                file  \\\n",
       "0  ..\\data\\cv-valid-train\\cv-valid-train\\sample-0...   \n",
       "1  ..\\data\\cv-valid-train\\cv-valid-train\\sample-0...   \n",
       "2  ..\\data\\cv-valid-train\\cv-valid-train\\sample-0...   \n",
       "3  ..\\data\\cv-valid-train\\cv-valid-train\\sample-0...   \n",
       "4  ..\\data\\cv-valid-train\\cv-valid-train\\sample-0...   \n",
       "\n",
       "                                                text  up_votes  down_votes  \\\n",
       "0  learn to recognize omens and follow them the o...         1           0   \n",
       "1         everything in the universe evolved he said         1           0   \n",
       "2  you came so that you could learn about your dr...         1           0   \n",
       "3  so now i fear nothing because it was those ome...         1           0   \n",
       "4  if you start your emails with greetings let me...         3           2   \n",
       "\n",
       "   age gender accent  duration  \n",
       "0  NaN    NaN    NaN       NaN  \n",
       "1  NaN    NaN    NaN       NaN  \n",
       "2  NaN    NaN    NaN       NaN  \n",
       "3  NaN    NaN    NaN       NaN  \n",
       "4  NaN    NaN    NaN       NaN  "
      ]
     },
     "execution_count": 117,
     "metadata": {},
     "output_type": "execute_result"
    }
   ],
   "source": [
    "df.head()"
   ]
  },
  {
   "cell_type": "markdown",
   "metadata": {},
   "source": [
    "# **Data preparation**\n",
    "\n",
    "After having made a first analysis of the data obtained and its nature, it is recognized that the data must go through a preparation process to be used in regression or classification models. This preparation will consist of identifying and dealing with missing data. Since the exportable data analysis found a predominance of data with the accent attribute mainly from the US and England, but also from Australia, India and Canada, samples with accent values will be omitted in order to have a more balanced sample in terms of accent, which is the main focus of this study. \n",
    "\n",
    "\n",
    "An important consideration of this project is that the treatment of duplicate data will be omitted due to the specific context of the problem and the audio nature of the data. The omission of duplicate data processing is justified in the context of data of an audio nature because duplication of samples does not necessarily imply redundancy or irrelevance. In audio signal processing, such as speech recognition or music analysis, duplications may represent distinct instances of the same signal, each with characteristics relevant to the analysis. Therefore, preserving duplicate data is crucial for capturing the inherent variability in audio samples and obtaining accurate results in modeling and analysis tasks."
   ]
  },
  {
   "cell_type": "markdown",
   "metadata": {},
   "source": [
    "## Missing values processing"
   ]
  },
  {
   "cell_type": "code",
   "execution_count": 118,
   "metadata": {},
   "outputs": [
    {
     "data": {
      "text/plain": [
       "filename           0\n",
       "file               0\n",
       "text               2\n",
       "up_votes           0\n",
       "down_votes         0\n",
       "age           203441\n",
       "gender        203207\n",
       "accent        221624\n",
       "duration      340911\n",
       "dtype: int64"
      ]
     },
     "execution_count": 118,
     "metadata": {},
     "output_type": "execute_result"
    }
   ],
   "source": [
    "df.isnull().sum()"
   ]
  },
  {
   "cell_type": "code",
   "execution_count": 119,
   "metadata": {},
   "outputs": [
    {
     "data": {
      "text/plain": [
       "filename           0\n",
       "file               0\n",
       "text               2\n",
       "up_votes           0\n",
       "down_votes         0\n",
       "age           203441\n",
       "gender        203207\n",
       "accent        221624\n",
       "duration      340911\n",
       "dtype: int64"
      ]
     },
     "execution_count": 119,
     "metadata": {},
     "output_type": "execute_result"
    }
   ],
   "source": [
    "df.isna().sum()"
   ]
  },
  {
   "cell_type": "markdown",
   "metadata": {},
   "source": [
    "Of the missing values found, the predictor of duration will be discarded because it has no impact on the prediction of accent."
   ]
  },
  {
   "cell_type": "code",
   "execution_count": 120,
   "metadata": {},
   "outputs": [
    {
     "data": {
      "text/html": [
       "<div>\n",
       "<style scoped>\n",
       "    .dataframe tbody tr th:only-of-type {\n",
       "        vertical-align: middle;\n",
       "    }\n",
       "\n",
       "    .dataframe tbody tr th {\n",
       "        vertical-align: top;\n",
       "    }\n",
       "\n",
       "    .dataframe thead th {\n",
       "        text-align: right;\n",
       "    }\n",
       "</style>\n",
       "<table border=\"1\" class=\"dataframe\">\n",
       "  <thead>\n",
       "    <tr style=\"text-align: right;\">\n",
       "      <th></th>\n",
       "      <th>filename</th>\n",
       "      <th>file</th>\n",
       "      <th>text</th>\n",
       "      <th>up_votes</th>\n",
       "      <th>down_votes</th>\n",
       "      <th>age</th>\n",
       "      <th>gender</th>\n",
       "      <th>accent</th>\n",
       "    </tr>\n",
       "  </thead>\n",
       "  <tbody>\n",
       "    <tr>\n",
       "      <th>0</th>\n",
       "      <td>cv-valid-train/sample-000000.mp3</td>\n",
       "      <td>..\\data\\cv-valid-train\\cv-valid-train\\sample-0...</td>\n",
       "      <td>learn to recognize omens and follow them the o...</td>\n",
       "      <td>1</td>\n",
       "      <td>0</td>\n",
       "      <td>NaN</td>\n",
       "      <td>NaN</td>\n",
       "      <td>NaN</td>\n",
       "    </tr>\n",
       "    <tr>\n",
       "      <th>1</th>\n",
       "      <td>cv-valid-train/sample-000001.mp3</td>\n",
       "      <td>..\\data\\cv-valid-train\\cv-valid-train\\sample-0...</td>\n",
       "      <td>everything in the universe evolved he said</td>\n",
       "      <td>1</td>\n",
       "      <td>0</td>\n",
       "      <td>NaN</td>\n",
       "      <td>NaN</td>\n",
       "      <td>NaN</td>\n",
       "    </tr>\n",
       "    <tr>\n",
       "      <th>2</th>\n",
       "      <td>cv-valid-train/sample-000002.mp3</td>\n",
       "      <td>..\\data\\cv-valid-train\\cv-valid-train\\sample-0...</td>\n",
       "      <td>you came so that you could learn about your dr...</td>\n",
       "      <td>1</td>\n",
       "      <td>0</td>\n",
       "      <td>NaN</td>\n",
       "      <td>NaN</td>\n",
       "      <td>NaN</td>\n",
       "    </tr>\n",
       "    <tr>\n",
       "      <th>3</th>\n",
       "      <td>cv-valid-train/sample-000003.mp3</td>\n",
       "      <td>..\\data\\cv-valid-train\\cv-valid-train\\sample-0...</td>\n",
       "      <td>so now i fear nothing because it was those ome...</td>\n",
       "      <td>1</td>\n",
       "      <td>0</td>\n",
       "      <td>NaN</td>\n",
       "      <td>NaN</td>\n",
       "      <td>NaN</td>\n",
       "    </tr>\n",
       "    <tr>\n",
       "      <th>4</th>\n",
       "      <td>cv-valid-train/sample-000004.mp3</td>\n",
       "      <td>..\\data\\cv-valid-train\\cv-valid-train\\sample-0...</td>\n",
       "      <td>if you start your emails with greetings let me...</td>\n",
       "      <td>3</td>\n",
       "      <td>2</td>\n",
       "      <td>NaN</td>\n",
       "      <td>NaN</td>\n",
       "      <td>NaN</td>\n",
       "    </tr>\n",
       "    <tr>\n",
       "      <th>...</th>\n",
       "      <td>...</td>\n",
       "      <td>...</td>\n",
       "      <td>...</td>\n",
       "      <td>...</td>\n",
       "      <td>...</td>\n",
       "      <td>...</td>\n",
       "      <td>...</td>\n",
       "      <td>...</td>\n",
       "    </tr>\n",
       "    <tr>\n",
       "      <th>340906</th>\n",
       "      <td>cv-other-train/sample-145130.mp3</td>\n",
       "      <td>..\\data\\cv-other-train\\cv-other-train\\sample-1...</td>\n",
       "      <td>hopefully i didn't just set the voice coding c...</td>\n",
       "      <td>0</td>\n",
       "      <td>0</td>\n",
       "      <td>NaN</td>\n",
       "      <td>NaN</td>\n",
       "      <td>NaN</td>\n",
       "    </tr>\n",
       "    <tr>\n",
       "      <th>340907</th>\n",
       "      <td>cv-other-train/sample-145131.mp3</td>\n",
       "      <td>..\\data\\cv-other-train\\cv-other-train\\sample-1...</td>\n",
       "      <td>would you like to see where i was tattooed</td>\n",
       "      <td>0</td>\n",
       "      <td>0</td>\n",
       "      <td>NaN</td>\n",
       "      <td>NaN</td>\n",
       "      <td>NaN</td>\n",
       "    </tr>\n",
       "    <tr>\n",
       "      <th>340908</th>\n",
       "      <td>cv-other-train/sample-145132.mp3</td>\n",
       "      <td>..\\data\\cv-other-train\\cv-other-train\\sample-1...</td>\n",
       "      <td>the cursor blinked expectantly</td>\n",
       "      <td>0</td>\n",
       "      <td>0</td>\n",
       "      <td>fifties</td>\n",
       "      <td>male</td>\n",
       "      <td>england</td>\n",
       "    </tr>\n",
       "    <tr>\n",
       "      <th>340909</th>\n",
       "      <td>cv-other-train/sample-145133.mp3</td>\n",
       "      <td>..\\data\\cv-other-train\\cv-other-train\\sample-1...</td>\n",
       "      <td>nothing's going to happen</td>\n",
       "      <td>0</td>\n",
       "      <td>0</td>\n",
       "      <td>thirties</td>\n",
       "      <td>male</td>\n",
       "      <td>england</td>\n",
       "    </tr>\n",
       "    <tr>\n",
       "      <th>340910</th>\n",
       "      <td>cv-other-train/sample-145134.mp3</td>\n",
       "      <td>..\\data\\cv-other-train\\cv-other-train\\sample-1...</td>\n",
       "      <td>it belongs to me now</td>\n",
       "      <td>0</td>\n",
       "      <td>0</td>\n",
       "      <td>NaN</td>\n",
       "      <td>NaN</td>\n",
       "      <td>NaN</td>\n",
       "    </tr>\n",
       "  </tbody>\n",
       "</table>\n",
       "<p>340911 rows × 8 columns</p>\n",
       "</div>"
      ],
      "text/plain": [
       "                                filename  \\\n",
       "0       cv-valid-train/sample-000000.mp3   \n",
       "1       cv-valid-train/sample-000001.mp3   \n",
       "2       cv-valid-train/sample-000002.mp3   \n",
       "3       cv-valid-train/sample-000003.mp3   \n",
       "4       cv-valid-train/sample-000004.mp3   \n",
       "...                                  ...   \n",
       "340906  cv-other-train/sample-145130.mp3   \n",
       "340907  cv-other-train/sample-145131.mp3   \n",
       "340908  cv-other-train/sample-145132.mp3   \n",
       "340909  cv-other-train/sample-145133.mp3   \n",
       "340910  cv-other-train/sample-145134.mp3   \n",
       "\n",
       "                                                     file  \\\n",
       "0       ..\\data\\cv-valid-train\\cv-valid-train\\sample-0...   \n",
       "1       ..\\data\\cv-valid-train\\cv-valid-train\\sample-0...   \n",
       "2       ..\\data\\cv-valid-train\\cv-valid-train\\sample-0...   \n",
       "3       ..\\data\\cv-valid-train\\cv-valid-train\\sample-0...   \n",
       "4       ..\\data\\cv-valid-train\\cv-valid-train\\sample-0...   \n",
       "...                                                   ...   \n",
       "340906  ..\\data\\cv-other-train\\cv-other-train\\sample-1...   \n",
       "340907  ..\\data\\cv-other-train\\cv-other-train\\sample-1...   \n",
       "340908  ..\\data\\cv-other-train\\cv-other-train\\sample-1...   \n",
       "340909  ..\\data\\cv-other-train\\cv-other-train\\sample-1...   \n",
       "340910  ..\\data\\cv-other-train\\cv-other-train\\sample-1...   \n",
       "\n",
       "                                                     text  up_votes  \\\n",
       "0       learn to recognize omens and follow them the o...         1   \n",
       "1              everything in the universe evolved he said         1   \n",
       "2       you came so that you could learn about your dr...         1   \n",
       "3       so now i fear nothing because it was those ome...         1   \n",
       "4       if you start your emails with greetings let me...         3   \n",
       "...                                                   ...       ...   \n",
       "340906  hopefully i didn't just set the voice coding c...         0   \n",
       "340907         would you like to see where i was tattooed         0   \n",
       "340908                     the cursor blinked expectantly         0   \n",
       "340909                          nothing's going to happen         0   \n",
       "340910                               it belongs to me now         0   \n",
       "\n",
       "        down_votes       age gender   accent  \n",
       "0                0       NaN    NaN      NaN  \n",
       "1                0       NaN    NaN      NaN  \n",
       "2                0       NaN    NaN      NaN  \n",
       "3                0       NaN    NaN      NaN  \n",
       "4                2       NaN    NaN      NaN  \n",
       "...            ...       ...    ...      ...  \n",
       "340906           0       NaN    NaN      NaN  \n",
       "340907           0       NaN    NaN      NaN  \n",
       "340908           0   fifties   male  england  \n",
       "340909           0  thirties   male  england  \n",
       "340910           0       NaN    NaN      NaN  \n",
       "\n",
       "[340911 rows x 8 columns]"
      ]
     },
     "execution_count": 120,
     "metadata": {},
     "output_type": "execute_result"
    }
   ],
   "source": [
    "df.drop(columns=['duration'])"
   ]
  },
  {
   "cell_type": "markdown",
   "metadata": {},
   "source": [
    "In the same way, the instances that do not have an accent value will be discarded. This is because the accent is our target variable, so any instance without accent cannot be used because it will not be useful to learn from it."
   ]
  },
  {
   "cell_type": "code",
   "execution_count": 121,
   "metadata": {},
   "outputs": [
    {
     "data": {
      "text/plain": [
       "filename           0\n",
       "file               0\n",
       "text               0\n",
       "up_votes           0\n",
       "down_votes         0\n",
       "age             2445\n",
       "gender          2197\n",
       "accent             0\n",
       "duration      119287\n",
       "dtype: int64"
      ]
     },
     "execution_count": 121,
     "metadata": {},
     "output_type": "execute_result"
    }
   ],
   "source": [
    "df.dropna(subset=['accent'], inplace=True)\n",
    "df.reset_index(drop=True, inplace=True)\n",
    "df.isnull().sum()"
   ]
  },
  {
   "cell_type": "markdown",
   "metadata": {},
   "source": [
    "In the context of the project to detect and predict accents in audio samples, it faces a remarkable imbalance in the distribution of data between different accents. Although there is an abundance of data from English speakers with accents such as American, British, Indian, Australian, and Canadian, other accents are underrepresented in the dataset. This disparity can introduce biases and affect the ability of the models to generalize effectively. To address this situation, we seek to randomly select an equal sample from each accent, thus ensuring a more balanced distribution of data before proceeding with training the accent prediction models.\n"
   ]
  },
  {
   "cell_type": "code",
   "execution_count": 122,
   "metadata": {},
   "outputs": [],
   "source": [
    "#accents = ['us', 'england', 'indian', 'australia', 'canada', 'scotland', 'newzealand', 'ireland', 'african', 'wales', 'philippines', 'hongkong', 'malaysia', 'bermuda', 'southatlandtic', 'singapore']\n",
    "\n",
    "#balanced_samples = df.copy() \n",
    "\n",
    "#for accent in accents:\n",
    "    #accent_samples = df[df['accent'] == accent]\n",
    "    \n",
    "    #aleatory_samples = accent_samples.sample(n=160, random_state=42)\n",
    "    \n",
    "    #balanced_samples = pd.concat([balanced_samples, aleatory_samples], ignore_index=True)"
   ]
  },
  {
   "cell_type": "markdown",
   "metadata": {},
   "source": [
    "The next crucial step in data preprocessing involves addressing missing values through data imputation, using the strategy of replacing missing values with the mean of the corresponding variable. This technique maximizes the amount of valid data available for analysis, thus ensuring a representative and more complete sample for the study."
   ]
  },
  {
   "cell_type": "markdown",
   "metadata": {},
   "source": [
    "#mean_age = balanced_samples['age'].mean()\n",
    "mode_gender = balanced_samples['gender'].mode()[0]  # El modo se usa para imputar el género, ya que es una variable categórica\n",
    "\n",
    "# Llenar los valores faltantes con la media de 'age' y el modo de 'gender'\n",
    "#balanced_samples['age'].fillna(mean_age, inplace=True)\n",
    "balanced_samples['gender'].fillna(mode_gender, inplace=True)"
   ]
  },
  {
   "cell_type": "markdown",
   "metadata": {},
   "source": [
    "# **Data Loading and Merging**"
   ]
  },
  {
   "cell_type": "markdown",
   "metadata": {},
   "source": [
    "In the context of the project to detect and predict accents in audio samples, it faces a remarkable imbalance in the distribution of data between different accents.To address this issue, we will  select the four most commom accents."
   ]
  },
  {
   "cell_type": "code",
   "execution_count": 123,
   "metadata": {},
   "outputs": [
    {
     "name": "stdout",
     "output_type": "stream",
     "text": [
      "['us', 'england', 'indian', 'australia']\n"
     ]
    }
   ],
   "source": [
    "from collections import Counter\n",
    "labels = [lang for lang, _ in Counter(df['accent']).most_common(4)]\n",
    "print(labels)"
   ]
  },
  {
   "cell_type": "markdown",
   "metadata": {},
   "source": [
    "The four most common accents are: 'us', 'england', 'indian', 'australia' and 'canada'. Once we have the four most common accents, we will filter the data to only have the samples with these accents."
   ]
  },
  {
   "cell_type": "code",
   "execution_count": 124,
   "metadata": {},
   "outputs": [
    {
     "data": {
      "text/plain": [
       "accent\n",
       "us           55383\n",
       "england      28040\n",
       "indian       10131\n",
       "australia     7519\n",
       "Name: count, dtype: int64"
      ]
     },
     "execution_count": 124,
     "metadata": {},
     "output_type": "execute_result"
    }
   ],
   "source": [
    "df = df[df['accent'].isin(labels)]\n",
    "accent_counts = df['accent'].value_counts()\n",
    "accent_counts"
   ]
  },
  {
   "cell_type": "code",
   "execution_count": 125,
   "metadata": {},
   "outputs": [
    {
     "data": {
      "image/png": "[encoded data removed]",
      "text/plain": [
       "<Figure size 800x600 with 1 Axes>"
      ]
     },
     "metadata": {},
     "output_type": "display_data"
    }
   ],
   "source": [
    "plt.figure(figsize=(8, 6)) \n",
    "accent_counts.plot(kind='bar', color='skyblue')\n",
    "\n",
    "plt.title('Accents Count')\n",
    "plt.xlabel('Accents')\n",
    "plt.ylabel('Count')\n",
    "plt.xticks(rotation=45) \n",
    "\n",
    "plt.tight_layout()  \n",
    "plt.show()"
   ]
  },
  {
   "cell_type": "markdown",
   "metadata": {},
   "source": [
    "It's possible to see that the data is now balanced, for that razon we have to use a strategy that allows us to subsample the majority class to have the same number of samples as the minority class. This strategy is called undersampling."
   ]
  },
  {
   "cell_type": "markdown",
   "metadata": {},
   "source": [
    "`Undersampling`: It is a technique that consists of keeping all the data from the lower frequency class and reducing the amount of data from the higher frequency class, making the set observations have data with the target variable balanced."
   ]
  },
  {
   "cell_type": "code",
   "execution_count": 126,
   "metadata": {},
   "outputs": [],
   "source": [
    "random_under_sampler = RandomUnderSampler(random_state=83, sampling_strategy='majority')\n",
    "\n",
    "\n",
    "# Balancing the dataset\n",
    "target = df[['accent']]\n",
    "df = df.drop(columns=['accent'], axis=1)\n",
    "df, y_resampled = random_under_sampler.fit_resample(df,target)\n",
    "df['accent'] = y_resampled\n"
   ]
  },
  {
   "cell_type": "code",
   "execution_count": 127,
   "metadata": {},
   "outputs": [
    {
     "data": {
      "text/plain": [
       "accent\n",
       "england      28040\n",
       "indian       10131\n",
       "australia     7519\n",
       "us            7519\n",
       "Name: count, dtype: int64"
      ]
     },
     "execution_count": 127,
     "metadata": {},
     "output_type": "execute_result"
    }
   ],
   "source": [
    "accent_counts = df['accent'].value_counts()\n",
    "accent_counts"
   ]
  },
  {
   "cell_type": "code",
   "execution_count": 128,
   "metadata": {},
   "outputs": [
    {
     "data": {
      "image/png": "[encoded data removed]",
      "text/plain": [
       "<Figure size 800x600 with 1 Axes>"
      ]
     },
     "metadata": {},
     "output_type": "display_data"
    }
   ],
   "source": [
    "plt.figure(figsize=(8, 6)) \n",
    "accent_counts.plot(kind='bar', color='skyblue')\n",
    "\n",
    "plt.title('Accents Count')\n",
    "plt.xlabel('Accents')\n",
    "plt.ylabel('Count')\n",
    "plt.xticks(rotation=45) \n",
    "\n",
    "plt.tight_layout()  \n",
    "plt.show()"
   ]
  },
  {
   "cell_type": "markdown",
   "metadata": {},
   "source": [
    "It's possible to see that the data is now balanced, for that razon we have to use a strategy that allows us to subsample the majority class to have similar number of samples as the minority class."
   ]
  },
  {
   "cell_type": "markdown",
   "metadata": {},
   "source": [
    "## Audio Processing\n",
    "The transformation of audio data into a format suitable for machine learning models involves extracting relevant features from the audio signals. This process is known as feature extraction and is essential for capturing the characteristics of the audio samples that are relevant to the prediction of accents. In this project, we will use the Librosa library to extract features from the audio files, which will be used as input to the machine learning models."
   ]
  },
  {
   "cell_type": "code",
   "execution_count": 129,
   "metadata": {},
   "outputs": [],
   "source": [
    "RATE_HZ = 16000 # Audios are being sampled at 16,000 times per second\n",
    "\n",
    "MAX_SECONDS = 1 #  Maximum audio interval length in seconds\n",
    "\n",
    "MAX_LENGTH = RATE_HZ * MAX_SECONDS # Maximum audio interval length in samples\n",
    "\n",
    "MIN_RECORDS_PER_LABEL = 25 # Minimum number of records per label\n",
    "\n",
    "TEST_SIZE = 0.1 # Test set size"
   ]
  },
  {
   "cell_type": "code",
   "execution_count": 130,
   "metadata": {},
   "outputs": [],
   "source": [
    "def feature_extraction(file):\n",
    "    features = {}\n",
    "    audio,_ = librosa.load(file, sr=RATE_HZ)\n",
    "\n",
    "    spectral_centroid = np.mean(librosa.feature.spectral_centroid(y=audio, sr=RATE_HZ)) # Compute the spectral centroid\n",
    "    spectral_bandwidth = np.mean(librosa.feature.spectral_bandwidth(y=audio, sr=RATE_HZ)) # Compute the spectral bandwidth\n",
    "    spectral_rolloff = np.mean(librosa.feature.spectral_rolloff(y=audio, sr=RATE_HZ)) # Compute the spectral rolloff\n",
    "    features['spectral_centroid'] = spectral_centroid\n",
    "    features['spectral_bandwidth'] = spectral_bandwidth\n",
    "    features['spectral_rolloff'] = spectral_rolloff\n",
    "    \n",
    "    mfcc = librosa.feature.mfcc(y=audio, sr=RATE_HZ) # Compute the mel-frequency cepstral coefficients\n",
    "    for i, el in enumerate(mfcc):\n",
    "        features[f'mfcc_{i+1}'] = np.mean(el)\n",
    "    \n",
    "    return pd.DataFrame([features])"
   ]
  },
  {
   "cell_type": "code",
   "execution_count": 131,
   "metadata": {},
   "outputs": [],
   "source": [
    "df = df.head(100)"
   ]
  },
  {
   "cell_type": "code",
   "execution_count": 132,
   "metadata": {},
   "outputs": [
    {
     "data": {
      "text/plain": [
       "(100, 9)"
      ]
     },
     "execution_count": 132,
     "metadata": {},
     "output_type": "execute_result"
    }
   ],
   "source": [
    "df.shape"
   ]
  },
  {
   "cell_type": "code",
   "execution_count": 133,
   "metadata": {},
   "outputs": [
    {
     "name": "stderr",
     "output_type": "stream",
     "text": [
      "100it [00:03, 31.94it/s]\n"
     ]
    }
   ],
   "source": [
    "df_list = list()\n",
    "\n",
    "for input_file, input_label in tqdm(zip(df['file'], df['accent'])):\n",
    "    resulting_df = feature_extraction(input_file)\n",
    "    if resulting_df is not None:\n",
    "        resulting_df['accent'] = input_label\n",
    "        df_list.append(resulting_df)\n",
    "\n",
    "df = pd.concat(df_list, axis=0)"
   ]
  }
 ],
 "metadata": {
  "kernelspec": {
   "display_name": "venv",
   "language": "python",
   "name": "python3"
  },
  "language_info": {
   "codemirror_mode": {
    "name": "ipython",
    "version": 3
   },
   "file_extension": ".py",
   "mimetype": "text/x-python",
   "name": "python",
   "nbconvert_exporter": "python",
   "pygments_lexer": "ipython3",
   "version": "3.11.7"
  }
 },
 "nbformat": 4,
 "nbformat_minor": 2
}
