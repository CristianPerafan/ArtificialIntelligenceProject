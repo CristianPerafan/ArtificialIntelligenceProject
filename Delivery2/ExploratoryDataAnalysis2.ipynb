{
 "cells": [
  {
   "cell_type": "markdown",
   "metadata": {},
   "source": [
    "# **Data Acquisition and Model Training Report :Artificial Intelligence Project**\n",
    "\n",
    "This project is a part of the Artificial Intelligence course at Icesi University. This project is developed by:\n",
    "- Juan David Garzón\n",
    "- Cristian Perafan\n",
    "- Geovanny Quintero"
   ]
  },
  {
   "cell_type": "markdown",
   "metadata": {},
   "source": [
    "# **Neccessary Libraries**"
   ]
  },
  {
   "cell_type": "code",
   "execution_count": 158,
   "metadata": {},
   "outputs": [],
   "source": [
    "import numpy as np\n",
    "import pandas as pd\n",
    "import matplotlib.pyplot as plt\n",
    "from tqdm import tqdm # Import tqdm for processing bar\n",
    "tqdm.pandas()\n",
    "from pathlib import Path # Import Path to handle file paths\n",
    "from imblearn.under_sampling import RandomUnderSampler\n",
    "import librosa\n",
    "import os\n",
    "import joblib\n",
    "from sklearn.model_selection import GridSearchCV\n",
    "from sklearn.pipeline import Pipeline\n",
    "from sklearn.neighbors import KNeighborsClassifier\n",
    "from sklearn.preprocessing import StandardScaler"
   ]
  },
  {
   "cell_type": "markdown",
   "metadata": {},
   "source": [
    "Evaluation metrics"
   ]
  },
  {
   "cell_type": "code",
   "execution_count": 159,
   "metadata": {},
   "outputs": [],
   "source": [
    "from sklearn.metrics import accuracy_score\n",
    "from sklearn.metrics import precision_score\n",
    "from sklearn.metrics import recall_score\n",
    "from sklearn.metrics import f1_score"
   ]
  },
  {
   "cell_type": "markdown",
   "metadata": {},
   "source": [
    "# **Data Loading and Merging**"
   ]
  },
  {
   "cell_type": "markdown",
   "metadata": {},
   "source": [
    "Valid training data:"
   ]
  },
  {
   "cell_type": "code",
   "execution_count": 160,
   "metadata": {},
   "outputs": [],
   "source": [
    "valid_train_df = pd.read_csv('../data/cv-valid-train.csv')"
   ]
  },
  {
   "cell_type": "markdown",
   "metadata": {},
   "source": [
    "Other data:"
   ]
  },
  {
   "cell_type": "code",
   "execution_count": 161,
   "metadata": {},
   "outputs": [],
   "source": [
    "other_df = pd.read_csv('../data/cv-other-train.csv')"
   ]
  },
  {
   "cell_type": "markdown",
   "metadata": {},
   "source": [
    "Merging the two datasets:"
   ]
  },
  {
   "cell_type": "code",
   "execution_count": 162,
   "metadata": {},
   "outputs": [],
   "source": [
    "info_df = pd.concat([valid_train_df, other_df])"
   ]
  },
  {
   "cell_type": "markdown",
   "metadata": {},
   "source": [
    "Shape of the merged dataset:"
   ]
  },
  {
   "cell_type": "code",
   "execution_count": 163,
   "metadata": {},
   "outputs": [
    {
     "data": {
      "text/plain": [
       "(340911, 8)"
      ]
     },
     "execution_count": 163,
     "metadata": {},
     "output_type": "execute_result"
    }
   ],
   "source": [
    "info_df.shape"
   ]
  },
  {
   "cell_type": "code",
   "execution_count": 164,
   "metadata": {},
   "outputs": [
    {
     "data": {
      "text/html": [
       "<div>\n",
       "<style scoped>\n",
       "    .dataframe tbody tr th:only-of-type {\n",
       "        vertical-align: middle;\n",
       "    }\n",
       "\n",
       "    .dataframe tbody tr th {\n",
       "        vertical-align: top;\n",
       "    }\n",
       "\n",
       "    .dataframe thead th {\n",
       "        text-align: right;\n",
       "    }\n",
       "</style>\n",
       "<table border=\"1\" class=\"dataframe\">\n",
       "  <thead>\n",
       "    <tr style=\"text-align: right;\">\n",
       "      <th></th>\n",
       "      <th>filename</th>\n",
       "      <th>text</th>\n",
       "      <th>up_votes</th>\n",
       "      <th>down_votes</th>\n",
       "      <th>age</th>\n",
       "      <th>gender</th>\n",
       "      <th>accent</th>\n",
       "      <th>duration</th>\n",
       "    </tr>\n",
       "  </thead>\n",
       "  <tbody>\n",
       "    <tr>\n",
       "      <th>0</th>\n",
       "      <td>cv-valid-train/sample-000000.mp3</td>\n",
       "      <td>learn to recognize omens and follow them the o...</td>\n",
       "      <td>1</td>\n",
       "      <td>0</td>\n",
       "      <td>NaN</td>\n",
       "      <td>NaN</td>\n",
       "      <td>NaN</td>\n",
       "      <td>NaN</td>\n",
       "    </tr>\n",
       "    <tr>\n",
       "      <th>1</th>\n",
       "      <td>cv-valid-train/sample-000001.mp3</td>\n",
       "      <td>everything in the universe evolved he said</td>\n",
       "      <td>1</td>\n",
       "      <td>0</td>\n",
       "      <td>NaN</td>\n",
       "      <td>NaN</td>\n",
       "      <td>NaN</td>\n",
       "      <td>NaN</td>\n",
       "    </tr>\n",
       "    <tr>\n",
       "      <th>2</th>\n",
       "      <td>cv-valid-train/sample-000002.mp3</td>\n",
       "      <td>you came so that you could learn about your dr...</td>\n",
       "      <td>1</td>\n",
       "      <td>0</td>\n",
       "      <td>NaN</td>\n",
       "      <td>NaN</td>\n",
       "      <td>NaN</td>\n",
       "      <td>NaN</td>\n",
       "    </tr>\n",
       "    <tr>\n",
       "      <th>3</th>\n",
       "      <td>cv-valid-train/sample-000003.mp3</td>\n",
       "      <td>so now i fear nothing because it was those ome...</td>\n",
       "      <td>1</td>\n",
       "      <td>0</td>\n",
       "      <td>NaN</td>\n",
       "      <td>NaN</td>\n",
       "      <td>NaN</td>\n",
       "      <td>NaN</td>\n",
       "    </tr>\n",
       "    <tr>\n",
       "      <th>4</th>\n",
       "      <td>cv-valid-train/sample-000004.mp3</td>\n",
       "      <td>if you start your emails with greetings let me...</td>\n",
       "      <td>3</td>\n",
       "      <td>2</td>\n",
       "      <td>NaN</td>\n",
       "      <td>NaN</td>\n",
       "      <td>NaN</td>\n",
       "      <td>NaN</td>\n",
       "    </tr>\n",
       "  </tbody>\n",
       "</table>\n",
       "</div>"
      ],
      "text/plain": [
       "                           filename  \\\n",
       "0  cv-valid-train/sample-000000.mp3   \n",
       "1  cv-valid-train/sample-000001.mp3   \n",
       "2  cv-valid-train/sample-000002.mp3   \n",
       "3  cv-valid-train/sample-000003.mp3   \n",
       "4  cv-valid-train/sample-000004.mp3   \n",
       "\n",
       "                                                text  up_votes  down_votes  \\\n",
       "0  learn to recognize omens and follow them the o...         1           0   \n",
       "1         everything in the universe evolved he said         1           0   \n",
       "2  you came so that you could learn about your dr...         1           0   \n",
       "3  so now i fear nothing because it was those ome...         1           0   \n",
       "4  if you start your emails with greetings let me...         3           2   \n",
       "\n",
       "   age gender accent  duration  \n",
       "0  NaN    NaN    NaN       NaN  \n",
       "1  NaN    NaN    NaN       NaN  \n",
       "2  NaN    NaN    NaN       NaN  \n",
       "3  NaN    NaN    NaN       NaN  \n",
       "4  NaN    NaN    NaN       NaN  "
      ]
     },
     "execution_count": 164,
     "metadata": {},
     "output_type": "execute_result"
    }
   ],
   "source": [
    "info_df.head() "
   ]
  },
  {
   "cell_type": "markdown",
   "metadata": {},
   "source": [
    "The next step is to assing the target variable to each  audio file path in the dataset. To do this, we will use the next function `load_data` that will return a dataframe with the path of the audio file and the audio file name."
   ]
  },
  {
   "cell_type": "code",
   "execution_count": 165,
   "metadata": {},
   "outputs": [],
   "source": [
    "# Function to load the sound data\n",
    "def load_data():\n",
    "    file_list = [] # List to store the file paths\n",
    "    full_list = [] # List to store the labels\n",
    "\n",
    "    for folder in ['cv-valid-train','cv-other-train']:\n",
    "        for file in tqdm(Path(f'../data/{folder}').glob('**/*.mp3')):\n",
    "            # Extract the label from the file path by splitting the path and getting the second last element\n",
    "            full_path = str(file)\n",
    "            f_name = full_path.split(\"\\\\\")[-1]\n",
    "            file_name = f\"{folder}/{f_name}\"\n",
    "            file_list.append(file_name)\n",
    "            full_list.append(full_path)\n",
    "       \n",
    "    df = pd.DataFrame()\n",
    "    df['filename'] = file_list\n",
    "    df['file'] = full_list\n",
    "\n",
    "    return df\n"
   ]
  },
  {
   "cell_type": "markdown",
   "metadata": {},
   "source": [
    "Loading the data:"
   ]
  },
  {
   "cell_type": "code",
   "execution_count": 166,
   "metadata": {},
   "outputs": [
    {
     "name": "stderr",
     "output_type": "stream",
     "text": [
      "195776it [00:02, 75588.25it/s] \n",
      "145135it [00:01, 79782.92it/s] \n"
     ]
    }
   ],
   "source": [
    "df = load_data()"
   ]
  },
  {
   "cell_type": "markdown",
   "metadata": {},
   "source": [
    "Shape of the file information dataframe:"
   ]
  },
  {
   "cell_type": "code",
   "execution_count": 167,
   "metadata": {},
   "outputs": [
    {
     "data": {
      "text/plain": [
       "(340911, 2)"
      ]
     },
     "execution_count": 167,
     "metadata": {},
     "output_type": "execute_result"
    }
   ],
   "source": [
    "df.shape"
   ]
  },
  {
   "cell_type": "markdown",
   "metadata": {},
   "source": [
    "The next step is merge the dataframe `info_df` that contains the characteristics of the audio files with the dataframe `df` that contains the path of the audio files"
   ]
  },
  {
   "cell_type": "code",
   "execution_count": 168,
   "metadata": {},
   "outputs": [],
   "source": [
    "df = df.merge(info_df, on='filename', how='inner')"
   ]
  },
  {
   "cell_type": "markdown",
   "metadata": {},
   "source": [
    "Now we have a dataframe with the file path information and the characteristics of the audio files."
   ]
  },
  {
   "cell_type": "code",
   "execution_count": 169,
   "metadata": {},
   "outputs": [
    {
     "data": {
      "text/html": [
       "<div>\n",
       "<style scoped>\n",
       "    .dataframe tbody tr th:only-of-type {\n",
       "        vertical-align: middle;\n",
       "    }\n",
       "\n",
       "    .dataframe tbody tr th {\n",
       "        vertical-align: top;\n",
       "    }\n",
       "\n",
       "    .dataframe thead th {\n",
       "        text-align: right;\n",
       "    }\n",
       "</style>\n",
       "<table border=\"1\" class=\"dataframe\">\n",
       "  <thead>\n",
       "    <tr style=\"text-align: right;\">\n",
       "      <th></th>\n",
       "      <th>filename</th>\n",
       "      <th>file</th>\n",
       "      <th>text</th>\n",
       "      <th>up_votes</th>\n",
       "      <th>down_votes</th>\n",
       "      <th>age</th>\n",
       "      <th>gender</th>\n",
       "      <th>accent</th>\n",
       "      <th>duration</th>\n",
       "    </tr>\n",
       "  </thead>\n",
       "  <tbody>\n",
       "    <tr>\n",
       "      <th>0</th>\n",
       "      <td>cv-valid-train/sample-000000.mp3</td>\n",
       "      <td>..\\data\\cv-valid-train\\cv-valid-train\\sample-0...</td>\n",
       "      <td>learn to recognize omens and follow them the o...</td>\n",
       "      <td>1</td>\n",
       "      <td>0</td>\n",
       "      <td>NaN</td>\n",
       "      <td>NaN</td>\n",
       "      <td>NaN</td>\n",
       "      <td>NaN</td>\n",
       "    </tr>\n",
       "    <tr>\n",
       "      <th>1</th>\n",
       "      <td>cv-valid-train/sample-000001.mp3</td>\n",
       "      <td>..\\data\\cv-valid-train\\cv-valid-train\\sample-0...</td>\n",
       "      <td>everything in the universe evolved he said</td>\n",
       "      <td>1</td>\n",
       "      <td>0</td>\n",
       "      <td>NaN</td>\n",
       "      <td>NaN</td>\n",
       "      <td>NaN</td>\n",
       "      <td>NaN</td>\n",
       "    </tr>\n",
       "    <tr>\n",
       "      <th>2</th>\n",
       "      <td>cv-valid-train/sample-000002.mp3</td>\n",
       "      <td>..\\data\\cv-valid-train\\cv-valid-train\\sample-0...</td>\n",
       "      <td>you came so that you could learn about your dr...</td>\n",
       "      <td>1</td>\n",
       "      <td>0</td>\n",
       "      <td>NaN</td>\n",
       "      <td>NaN</td>\n",
       "      <td>NaN</td>\n",
       "      <td>NaN</td>\n",
       "    </tr>\n",
       "    <tr>\n",
       "      <th>3</th>\n",
       "      <td>cv-valid-train/sample-000003.mp3</td>\n",
       "      <td>..\\data\\cv-valid-train\\cv-valid-train\\sample-0...</td>\n",
       "      <td>so now i fear nothing because it was those ome...</td>\n",
       "      <td>1</td>\n",
       "      <td>0</td>\n",
       "      <td>NaN</td>\n",
       "      <td>NaN</td>\n",
       "      <td>NaN</td>\n",
       "      <td>NaN</td>\n",
       "    </tr>\n",
       "    <tr>\n",
       "      <th>4</th>\n",
       "      <td>cv-valid-train/sample-000004.mp3</td>\n",
       "      <td>..\\data\\cv-valid-train\\cv-valid-train\\sample-0...</td>\n",
       "      <td>if you start your emails with greetings let me...</td>\n",
       "      <td>3</td>\n",
       "      <td>2</td>\n",
       "      <td>NaN</td>\n",
       "      <td>NaN</td>\n",
       "      <td>NaN</td>\n",
       "      <td>NaN</td>\n",
       "    </tr>\n",
       "  </tbody>\n",
       "</table>\n",
       "</div>"
      ],
      "text/plain": [
       "                           filename  \\\n",
       "0  cv-valid-train/sample-000000.mp3   \n",
       "1  cv-valid-train/sample-000001.mp3   \n",
       "2  cv-valid-train/sample-000002.mp3   \n",
       "3  cv-valid-train/sample-000003.mp3   \n",
       "4  cv-valid-train/sample-000004.mp3   \n",
       "\n",
       "                                                file  \\\n",
       "0  ..\\data\\cv-valid-train\\cv-valid-train\\sample-0...   \n",
       "1  ..\\data\\cv-valid-train\\cv-valid-train\\sample-0...   \n",
       "2  ..\\data\\cv-valid-train\\cv-valid-train\\sample-0...   \n",
       "3  ..\\data\\cv-valid-train\\cv-valid-train\\sample-0...   \n",
       "4  ..\\data\\cv-valid-train\\cv-valid-train\\sample-0...   \n",
       "\n",
       "                                                text  up_votes  down_votes  \\\n",
       "0  learn to recognize omens and follow them the o...         1           0   \n",
       "1         everything in the universe evolved he said         1           0   \n",
       "2  you came so that you could learn about your dr...         1           0   \n",
       "3  so now i fear nothing because it was those ome...         1           0   \n",
       "4  if you start your emails with greetings let me...         3           2   \n",
       "\n",
       "   age gender accent  duration  \n",
       "0  NaN    NaN    NaN       NaN  \n",
       "1  NaN    NaN    NaN       NaN  \n",
       "2  NaN    NaN    NaN       NaN  \n",
       "3  NaN    NaN    NaN       NaN  \n",
       "4  NaN    NaN    NaN       NaN  "
      ]
     },
     "execution_count": 169,
     "metadata": {},
     "output_type": "execute_result"
    }
   ],
   "source": [
    "df.head()"
   ]
  },
  {
   "cell_type": "markdown",
   "metadata": {},
   "source": [
    "# **Data preparation**\n",
    "\n",
    "After having made a first analysis of the data obtained and its nature, it is recognized that the data must go through a preparation process to be used in regression or classification models. This preparation will consist of identifying and dealing with missing data. Since the exportable data analysis found a predominance of data with the accent attribute mainly from the US and England, but also from Australia, India and Canada, samples with accent values will be omitted in order to have a more balanced sample in terms of accent, which is the main focus of this study. \n",
    "\n",
    "\n",
    "An important consideration of this project is that the treatment of duplicate data will be omitted due to the specific context of the problem and the audio nature of the data. The omission of duplicate data processing is justified in the context of data of an audio nature because duplication of samples does not necessarily imply redundancy or irrelevance. In audio signal processing, such as speech recognition or music analysis, duplications may represent distinct instances of the same signal, each with characteristics relevant to the analysis. Therefore, preserving duplicate data is crucial for capturing the inherent variability in audio samples and obtaining accurate results in modeling and analysis tasks."
   ]
  },
  {
   "cell_type": "markdown",
   "metadata": {},
   "source": [
    "## Missing values processing"
   ]
  },
  {
   "cell_type": "code",
   "execution_count": 170,
   "metadata": {},
   "outputs": [
    {
     "data": {
      "text/plain": [
       "filename           0\n",
       "file               0\n",
       "text               2\n",
       "up_votes           0\n",
       "down_votes         0\n",
       "age           203441\n",
       "gender        203207\n",
       "accent        221624\n",
       "duration      340911\n",
       "dtype: int64"
      ]
     },
     "execution_count": 170,
     "metadata": {},
     "output_type": "execute_result"
    }
   ],
   "source": [
    "df.isnull().sum()"
   ]
  },
  {
   "cell_type": "code",
   "execution_count": 171,
   "metadata": {},
   "outputs": [
    {
     "data": {
      "text/plain": [
       "filename           0\n",
       "file               0\n",
       "text               2\n",
       "up_votes           0\n",
       "down_votes         0\n",
       "age           203441\n",
       "gender        203207\n",
       "accent        221624\n",
       "duration      340911\n",
       "dtype: int64"
      ]
     },
     "execution_count": 171,
     "metadata": {},
     "output_type": "execute_result"
    }
   ],
   "source": [
    "df.isna().sum()"
   ]
  },
  {
   "cell_type": "markdown",
   "metadata": {},
   "source": [
    "Of the missing values found, the predictor of duration will be discarded because it has no impact on the prediction of accent."
   ]
  },
  {
   "cell_type": "code",
   "execution_count": 172,
   "metadata": {},
   "outputs": [
    {
     "data": {
      "text/html": [
       "<div>\n",
       "<style scoped>\n",
       "    .dataframe tbody tr th:only-of-type {\n",
       "        vertical-align: middle;\n",
       "    }\n",
       "\n",
       "    .dataframe tbody tr th {\n",
       "        vertical-align: top;\n",
       "    }\n",
       "\n",
       "    .dataframe thead th {\n",
       "        text-align: right;\n",
       "    }\n",
       "</style>\n",
       "<table border=\"1\" class=\"dataframe\">\n",
       "  <thead>\n",
       "    <tr style=\"text-align: right;\">\n",
       "      <th></th>\n",
       "      <th>filename</th>\n",
       "      <th>file</th>\n",
       "      <th>text</th>\n",
       "      <th>up_votes</th>\n",
       "      <th>down_votes</th>\n",
       "      <th>age</th>\n",
       "      <th>gender</th>\n",
       "      <th>accent</th>\n",
       "    </tr>\n",
       "  </thead>\n",
       "  <tbody>\n",
       "    <tr>\n",
       "      <th>0</th>\n",
       "      <td>cv-valid-train/sample-000000.mp3</td>\n",
       "      <td>..\\data\\cv-valid-train\\cv-valid-train\\sample-0...</td>\n",
       "      <td>learn to recognize omens and follow them the o...</td>\n",
       "      <td>1</td>\n",
       "      <td>0</td>\n",
       "      <td>NaN</td>\n",
       "      <td>NaN</td>\n",
       "      <td>NaN</td>\n",
       "    </tr>\n",
       "    <tr>\n",
       "      <th>1</th>\n",
       "      <td>cv-valid-train/sample-000001.mp3</td>\n",
       "      <td>..\\data\\cv-valid-train\\cv-valid-train\\sample-0...</td>\n",
       "      <td>everything in the universe evolved he said</td>\n",
       "      <td>1</td>\n",
       "      <td>0</td>\n",
       "      <td>NaN</td>\n",
       "      <td>NaN</td>\n",
       "      <td>NaN</td>\n",
       "    </tr>\n",
       "    <tr>\n",
       "      <th>2</th>\n",
       "      <td>cv-valid-train/sample-000002.mp3</td>\n",
       "      <td>..\\data\\cv-valid-train\\cv-valid-train\\sample-0...</td>\n",
       "      <td>you came so that you could learn about your dr...</td>\n",
       "      <td>1</td>\n",
       "      <td>0</td>\n",
       "      <td>NaN</td>\n",
       "      <td>NaN</td>\n",
       "      <td>NaN</td>\n",
       "    </tr>\n",
       "    <tr>\n",
       "      <th>3</th>\n",
       "      <td>cv-valid-train/sample-000003.mp3</td>\n",
       "      <td>..\\data\\cv-valid-train\\cv-valid-train\\sample-0...</td>\n",
       "      <td>so now i fear nothing because it was those ome...</td>\n",
       "      <td>1</td>\n",
       "      <td>0</td>\n",
       "      <td>NaN</td>\n",
       "      <td>NaN</td>\n",
       "      <td>NaN</td>\n",
       "    </tr>\n",
       "    <tr>\n",
       "      <th>4</th>\n",
       "      <td>cv-valid-train/sample-000004.mp3</td>\n",
       "      <td>..\\data\\cv-valid-train\\cv-valid-train\\sample-0...</td>\n",
       "      <td>if you start your emails with greetings let me...</td>\n",
       "      <td>3</td>\n",
       "      <td>2</td>\n",
       "      <td>NaN</td>\n",
       "      <td>NaN</td>\n",
       "      <td>NaN</td>\n",
       "    </tr>\n",
       "    <tr>\n",
       "      <th>...</th>\n",
       "      <td>...</td>\n",
       "      <td>...</td>\n",
       "      <td>...</td>\n",
       "      <td>...</td>\n",
       "      <td>...</td>\n",
       "      <td>...</td>\n",
       "      <td>...</td>\n",
       "      <td>...</td>\n",
       "    </tr>\n",
       "    <tr>\n",
       "      <th>340906</th>\n",
       "      <td>cv-other-train/sample-145130.mp3</td>\n",
       "      <td>..\\data\\cv-other-train\\cv-other-train\\sample-1...</td>\n",
       "      <td>hopefully i didn't just set the voice coding c...</td>\n",
       "      <td>0</td>\n",
       "      <td>0</td>\n",
       "      <td>NaN</td>\n",
       "      <td>NaN</td>\n",
       "      <td>NaN</td>\n",
       "    </tr>\n",
       "    <tr>\n",
       "      <th>340907</th>\n",
       "      <td>cv-other-train/sample-145131.mp3</td>\n",
       "      <td>..\\data\\cv-other-train\\cv-other-train\\sample-1...</td>\n",
       "      <td>would you like to see where i was tattooed</td>\n",
       "      <td>0</td>\n",
       "      <td>0</td>\n",
       "      <td>NaN</td>\n",
       "      <td>NaN</td>\n",
       "      <td>NaN</td>\n",
       "    </tr>\n",
       "    <tr>\n",
       "      <th>340908</th>\n",
       "      <td>cv-other-train/sample-145132.mp3</td>\n",
       "      <td>..\\data\\cv-other-train\\cv-other-train\\sample-1...</td>\n",
       "      <td>the cursor blinked expectantly</td>\n",
       "      <td>0</td>\n",
       "      <td>0</td>\n",
       "      <td>fifties</td>\n",
       "      <td>male</td>\n",
       "      <td>england</td>\n",
       "    </tr>\n",
       "    <tr>\n",
       "      <th>340909</th>\n",
       "      <td>cv-other-train/sample-145133.mp3</td>\n",
       "      <td>..\\data\\cv-other-train\\cv-other-train\\sample-1...</td>\n",
       "      <td>nothing's going to happen</td>\n",
       "      <td>0</td>\n",
       "      <td>0</td>\n",
       "      <td>thirties</td>\n",
       "      <td>male</td>\n",
       "      <td>england</td>\n",
       "    </tr>\n",
       "    <tr>\n",
       "      <th>340910</th>\n",
       "      <td>cv-other-train/sample-145134.mp3</td>\n",
       "      <td>..\\data\\cv-other-train\\cv-other-train\\sample-1...</td>\n",
       "      <td>it belongs to me now</td>\n",
       "      <td>0</td>\n",
       "      <td>0</td>\n",
       "      <td>NaN</td>\n",
       "      <td>NaN</td>\n",
       "      <td>NaN</td>\n",
       "    </tr>\n",
       "  </tbody>\n",
       "</table>\n",
       "<p>340911 rows × 8 columns</p>\n",
       "</div>"
      ],
      "text/plain": [
       "                                filename  \\\n",
       "0       cv-valid-train/sample-000000.mp3   \n",
       "1       cv-valid-train/sample-000001.mp3   \n",
       "2       cv-valid-train/sample-000002.mp3   \n",
       "3       cv-valid-train/sample-000003.mp3   \n",
       "4       cv-valid-train/sample-000004.mp3   \n",
       "...                                  ...   \n",
       "340906  cv-other-train/sample-145130.mp3   \n",
       "340907  cv-other-train/sample-145131.mp3   \n",
       "340908  cv-other-train/sample-145132.mp3   \n",
       "340909  cv-other-train/sample-145133.mp3   \n",
       "340910  cv-other-train/sample-145134.mp3   \n",
       "\n",
       "                                                     file  \\\n",
       "0       ..\\data\\cv-valid-train\\cv-valid-train\\sample-0...   \n",
       "1       ..\\data\\cv-valid-train\\cv-valid-train\\sample-0...   \n",
       "2       ..\\data\\cv-valid-train\\cv-valid-train\\sample-0...   \n",
       "3       ..\\data\\cv-valid-train\\cv-valid-train\\sample-0...   \n",
       "4       ..\\data\\cv-valid-train\\cv-valid-train\\sample-0...   \n",
       "...                                                   ...   \n",
       "340906  ..\\data\\cv-other-train\\cv-other-train\\sample-1...   \n",
       "340907  ..\\data\\cv-other-train\\cv-other-train\\sample-1...   \n",
       "340908  ..\\data\\cv-other-train\\cv-other-train\\sample-1...   \n",
       "340909  ..\\data\\cv-other-train\\cv-other-train\\sample-1...   \n",
       "340910  ..\\data\\cv-other-train\\cv-other-train\\sample-1...   \n",
       "\n",
       "                                                     text  up_votes  \\\n",
       "0       learn to recognize omens and follow them the o...         1   \n",
       "1              everything in the universe evolved he said         1   \n",
       "2       you came so that you could learn about your dr...         1   \n",
       "3       so now i fear nothing because it was those ome...         1   \n",
       "4       if you start your emails with greetings let me...         3   \n",
       "...                                                   ...       ...   \n",
       "340906  hopefully i didn't just set the voice coding c...         0   \n",
       "340907         would you like to see where i was tattooed         0   \n",
       "340908                     the cursor blinked expectantly         0   \n",
       "340909                          nothing's going to happen         0   \n",
       "340910                               it belongs to me now         0   \n",
       "\n",
       "        down_votes       age gender   accent  \n",
       "0                0       NaN    NaN      NaN  \n",
       "1                0       NaN    NaN      NaN  \n",
       "2                0       NaN    NaN      NaN  \n",
       "3                0       NaN    NaN      NaN  \n",
       "4                2       NaN    NaN      NaN  \n",
       "...            ...       ...    ...      ...  \n",
       "340906           0       NaN    NaN      NaN  \n",
       "340907           0       NaN    NaN      NaN  \n",
       "340908           0   fifties   male  england  \n",
       "340909           0  thirties   male  england  \n",
       "340910           0       NaN    NaN      NaN  \n",
       "\n",
       "[340911 rows x 8 columns]"
      ]
     },
     "execution_count": 172,
     "metadata": {},
     "output_type": "execute_result"
    }
   ],
   "source": [
    "df.drop(columns=['duration'])"
   ]
  },
  {
   "cell_type": "markdown",
   "metadata": {},
   "source": [
    "In the same way, the instances that do not have an accent value will be discarded. This is because the accent is our target variable, so any instance without accent cannot be used because it will not be useful to learn from it."
   ]
  },
  {
   "cell_type": "code",
   "execution_count": 173,
   "metadata": {},
   "outputs": [
    {
     "data": {
      "text/plain": [
       "filename           0\n",
       "file               0\n",
       "text               0\n",
       "up_votes           0\n",
       "down_votes         0\n",
       "age             2445\n",
       "gender          2197\n",
       "accent             0\n",
       "duration      119287\n",
       "dtype: int64"
      ]
     },
     "execution_count": 173,
     "metadata": {},
     "output_type": "execute_result"
    }
   ],
   "source": [
    "df.dropna(subset=['accent'], inplace=True)\n",
    "df.reset_index(drop=True, inplace=True)\n",
    "df.isnull().sum()"
   ]
  },
  {
   "cell_type": "code",
   "execution_count": 174,
   "metadata": {},
   "outputs": [
    {
     "name": "stdout",
     "output_type": "stream",
     "text": [
      "Index(['filename', 'file', 'text', 'up_votes', 'down_votes', 'age', 'gender',\n",
      "       'accent', 'duration'],\n",
      "      dtype='object')\n"
     ]
    }
   ],
   "source": [
    "print(df.columns)"
   ]
  },
  {
   "cell_type": "markdown",
   "metadata": {},
   "source": [
    "In the context of the project to detect and predict accents in audio samples, it faces a remarkable imbalance in the distribution of data between different accents. Although there is an abundance of data from English speakers with accents such as American, British, Indian, Australian, and Canadian, other accents are underrepresented in the dataset. This disparity can introduce biases and affect the ability of the models to generalize effectively. To address this situation, we seek to randomly select an equal sample from each accent, thus ensuring a more balanced distribution of data before proceeding with training the accent prediction models.\n"
   ]
  },
  {
   "cell_type": "markdown",
   "metadata": {},
   "source": [
    "The next crucial step in data preprocessing involves addressing missing values through data imputation, using the strategy of replacing missing values with the mean of the corresponding variable. This technique maximizes the amount of valid data available for analysis, thus ensuring a representative and more complete sample for the study."
   ]
  },
  {
   "cell_type": "markdown",
   "metadata": {},
   "source": [
    "# **Data Loading and Merging**"
   ]
  },
  {
   "cell_type": "markdown",
   "metadata": {},
   "source": [
    "In the context of the project to detect and predict accents in audio samples, it faces a remarkable imbalance in the distribution of data between different accents.To address this issue, we will  select the four most commom accents."
   ]
  },
  {
   "cell_type": "code",
   "execution_count": 175,
   "metadata": {},
   "outputs": [
    {
     "name": "stdout",
     "output_type": "stream",
     "text": [
      "['us', 'england', 'indian', 'australia']\n"
     ]
    }
   ],
   "source": [
    "from collections import Counter\n",
    "labels = [lang for lang, _ in Counter(df['accent']).most_common(4)]\n",
    "print(labels)"
   ]
  },
  {
   "cell_type": "markdown",
   "metadata": {},
   "source": [
    "The four most common accents are: 'us', 'england', 'indian', 'australia' and 'canada'. Once we have the four most common accents, we will filter the data to only have the samples with these accents."
   ]
  },
  {
   "cell_type": "code",
   "execution_count": 176,
   "metadata": {},
   "outputs": [
    {
     "data": {
      "text/plain": [
       "accent\n",
       "us           55383\n",
       "england      28040\n",
       "indian       10131\n",
       "australia     7519\n",
       "Name: count, dtype: int64"
      ]
     },
     "execution_count": 176,
     "metadata": {},
     "output_type": "execute_result"
    }
   ],
   "source": [
    "df = df[df['accent'].isin(labels)]\n",
    "accent_counts = df['accent'].value_counts()\n",
    "accent_counts"
   ]
  },
  {
   "cell_type": "code",
   "execution_count": 177,
   "metadata": {},
   "outputs": [
    {
     "data": {
      "image/png": "[encoded data removed]",
      "text/plain": [
       "<Figure size 800x600 with 1 Axes>"
      ]
     },
     "metadata": {},
     "output_type": "display_data"
    }
   ],
   "source": [
    "plt.figure(figsize=(8, 6)) \n",
    "accent_counts.plot(kind='bar', color='skyblue')\n",
    "\n",
    "plt.title('Accents Count')\n",
    "plt.xlabel('Accents')\n",
    "plt.ylabel('Count')\n",
    "plt.xticks(rotation=45) \n",
    "\n",
    "plt.tight_layout()  \n",
    "plt.show()"
   ]
  },
  {
   "cell_type": "markdown",
   "metadata": {},
   "source": [
    "It's possible to see that the data is not balanced, for that razon we have to use a strategy that allows us to subsample the majority class to have the same number of samples as the minority class. This strategy is called undersampling."
   ]
  },
  {
   "cell_type": "markdown",
   "metadata": {},
   "source": [
    "`Undersampling`: It is a technique that consists of keeping all the data from the lower frequency class and reducing the amount of data from the higher frequency class, making the set observations have data with the target variable balanced."
   ]
  },
  {
   "cell_type": "code",
   "execution_count": 178,
   "metadata": {},
   "outputs": [],
   "source": [
    "random_under_sampler = RandomUnderSampler(random_state=83, sampling_strategy='majority')\n",
    "\n",
    "# Balancing the dataset\n",
    "target = df[['accent']]\n",
    "df = df.drop(columns=['accent'], axis=1)\n",
    "df, y_resampled = random_under_sampler.fit_resample(df,target)\n",
    "df['accent'] = y_resampled"
   ]
  },
  {
   "cell_type": "code",
   "execution_count": 179,
   "metadata": {},
   "outputs": [
    {
     "data": {
      "text/plain": [
       "accent\n",
       "england      28040\n",
       "indian       10131\n",
       "australia     7519\n",
       "us            7519\n",
       "Name: count, dtype: int64"
      ]
     },
     "execution_count": 179,
     "metadata": {},
     "output_type": "execute_result"
    }
   ],
   "source": [
    "accent_counts = df['accent'].value_counts()\n",
    "accent_counts"
   ]
  },
  {
   "cell_type": "code",
   "execution_count": 180,
   "metadata": {},
   "outputs": [
    {
     "data": {
      "image/png": "[encoded data removed]",
      "text/plain": [
       "<Figure size 800x600 with 1 Axes>"
      ]
     },
     "metadata": {},
     "output_type": "display_data"
    }
   ],
   "source": [
    "plt.figure(figsize=(8, 6)) \n",
    "accent_counts.plot(kind='bar', color='skyblue')\n",
    "\n",
    "plt.title('Accents Count')\n",
    "plt.xlabel('Accents')\n",
    "plt.ylabel('Count')\n",
    "plt.xticks(rotation=45) \n",
    "\n",
    "plt.tight_layout()  \n",
    "plt.show()"
   ]
  },
  {
   "cell_type": "markdown",
   "metadata": {},
   "source": [
    "It's possible to see that the data is now balanced, for that razon we have to use a strategy that allows us to subsample the majority class to have similar number of samples as the minority class."
   ]
  },
  {
   "cell_type": "code",
   "execution_count": 181,
   "metadata": {},
   "outputs": [
    {
     "data": {
      "text/html": [
       "<div>\n",
       "<style scoped>\n",
       "    .dataframe tbody tr th:only-of-type {\n",
       "        vertical-align: middle;\n",
       "    }\n",
       "\n",
       "    .dataframe tbody tr th {\n",
       "        vertical-align: top;\n",
       "    }\n",
       "\n",
       "    .dataframe thead th {\n",
       "        text-align: right;\n",
       "    }\n",
       "</style>\n",
       "<table border=\"1\" class=\"dataframe\">\n",
       "  <thead>\n",
       "    <tr style=\"text-align: right;\">\n",
       "      <th></th>\n",
       "      <th>filename</th>\n",
       "      <th>file</th>\n",
       "      <th>text</th>\n",
       "      <th>up_votes</th>\n",
       "      <th>down_votes</th>\n",
       "      <th>age</th>\n",
       "      <th>gender</th>\n",
       "      <th>duration</th>\n",
       "      <th>accent</th>\n",
       "    </tr>\n",
       "  </thead>\n",
       "  <tbody>\n",
       "    <tr>\n",
       "      <th>4</th>\n",
       "      <td>cv-valid-train/sample-000019.mp3</td>\n",
       "      <td>..\\data\\cv-valid-train\\cv-valid-train\\sample-0...</td>\n",
       "      <td>then they got ahold of some dough and went goofy</td>\n",
       "      <td>1</td>\n",
       "      <td>0</td>\n",
       "      <td>fifties</td>\n",
       "      <td>male</td>\n",
       "      <td>NaN</td>\n",
       "      <td>australia</td>\n",
       "    </tr>\n",
       "    <tr>\n",
       "      <th>7</th>\n",
       "      <td>cv-valid-train/sample-000026.mp3</td>\n",
       "      <td>..\\data\\cv-valid-train\\cv-valid-train\\sample-0...</td>\n",
       "      <td>two years ago right here on this spot i had a ...</td>\n",
       "      <td>4</td>\n",
       "      <td>0</td>\n",
       "      <td>twenties</td>\n",
       "      <td>female</td>\n",
       "      <td>NaN</td>\n",
       "      <td>australia</td>\n",
       "    </tr>\n",
       "    <tr>\n",
       "      <th>8</th>\n",
       "      <td>cv-valid-train/sample-000027.mp3</td>\n",
       "      <td>..\\data\\cv-valid-train\\cv-valid-train\\sample-0...</td>\n",
       "      <td>don't let them see that you're afraid the alch...</td>\n",
       "      <td>3</td>\n",
       "      <td>0</td>\n",
       "      <td>twenties</td>\n",
       "      <td>male</td>\n",
       "      <td>NaN</td>\n",
       "      <td>australia</td>\n",
       "    </tr>\n",
       "    <tr>\n",
       "      <th>11</th>\n",
       "      <td>cv-valid-train/sample-000036.mp3</td>\n",
       "      <td>..\\data\\cv-valid-train\\cv-valid-train\\sample-0...</td>\n",
       "      <td>ask the owner of that stall how much the sword...</td>\n",
       "      <td>2</td>\n",
       "      <td>1</td>\n",
       "      <td>twenties</td>\n",
       "      <td>male</td>\n",
       "      <td>NaN</td>\n",
       "      <td>australia</td>\n",
       "    </tr>\n",
       "    <tr>\n",
       "      <th>15</th>\n",
       "      <td>cv-valid-train/sample-000049.mp3</td>\n",
       "      <td>..\\data\\cv-valid-train\\cv-valid-train\\sample-0...</td>\n",
       "      <td>so how will we name all these hurricanes</td>\n",
       "      <td>2</td>\n",
       "      <td>1</td>\n",
       "      <td>fourties</td>\n",
       "      <td>male</td>\n",
       "      <td>NaN</td>\n",
       "      <td>australia</td>\n",
       "    </tr>\n",
       "  </tbody>\n",
       "</table>\n",
       "</div>"
      ],
      "text/plain": [
       "                            filename  \\\n",
       "4   cv-valid-train/sample-000019.mp3   \n",
       "7   cv-valid-train/sample-000026.mp3   \n",
       "8   cv-valid-train/sample-000027.mp3   \n",
       "11  cv-valid-train/sample-000036.mp3   \n",
       "15  cv-valid-train/sample-000049.mp3   \n",
       "\n",
       "                                                 file  \\\n",
       "4   ..\\data\\cv-valid-train\\cv-valid-train\\sample-0...   \n",
       "7   ..\\data\\cv-valid-train\\cv-valid-train\\sample-0...   \n",
       "8   ..\\data\\cv-valid-train\\cv-valid-train\\sample-0...   \n",
       "11  ..\\data\\cv-valid-train\\cv-valid-train\\sample-0...   \n",
       "15  ..\\data\\cv-valid-train\\cv-valid-train\\sample-0...   \n",
       "\n",
       "                                                 text  up_votes  down_votes  \\\n",
       "4    then they got ahold of some dough and went goofy         1           0   \n",
       "7   two years ago right here on this spot i had a ...         4           0   \n",
       "8   don't let them see that you're afraid the alch...         3           0   \n",
       "11  ask the owner of that stall how much the sword...         2           1   \n",
       "15           so how will we name all these hurricanes         2           1   \n",
       "\n",
       "         age  gender  duration     accent  \n",
       "4    fifties    male       NaN  australia  \n",
       "7   twenties  female       NaN  australia  \n",
       "8   twenties    male       NaN  australia  \n",
       "11  twenties    male       NaN  australia  \n",
       "15  fourties    male       NaN  australia  "
      ]
     },
     "execution_count": 181,
     "metadata": {},
     "output_type": "execute_result"
    }
   ],
   "source": [
    "df.head()"
   ]
  },
  {
   "cell_type": "code",
   "execution_count": 182,
   "metadata": {},
   "outputs": [
    {
     "data": {
      "text/plain": [
       "accent\n",
       "england      28040\n",
       "indian       10131\n",
       "australia     7519\n",
       "us            7519\n",
       "Name: count, dtype: int64"
      ]
     },
     "execution_count": 182,
     "metadata": {},
     "output_type": "execute_result"
    }
   ],
   "source": [
    "df['accent'].value_counts()"
   ]
  },
  {
   "cell_type": "code",
   "execution_count": 183,
   "metadata": {},
   "outputs": [],
   "source": [
    "df[\"accent\"] = df[\"accent\"].map({\"us\": 0, \"england\": 1, \"indian\": 2, \"australia\": 3})"
   ]
  },
  {
   "cell_type": "code",
   "execution_count": 184,
   "metadata": {},
   "outputs": [
    {
     "data": {
      "text/html": [
       "<div>\n",
       "<style scoped>\n",
       "    .dataframe tbody tr th:only-of-type {\n",
       "        vertical-align: middle;\n",
       "    }\n",
       "\n",
       "    .dataframe tbody tr th {\n",
       "        vertical-align: top;\n",
       "    }\n",
       "\n",
       "    .dataframe thead th {\n",
       "        text-align: right;\n",
       "    }\n",
       "</style>\n",
       "<table border=\"1\" class=\"dataframe\">\n",
       "  <thead>\n",
       "    <tr style=\"text-align: right;\">\n",
       "      <th></th>\n",
       "      <th>filename</th>\n",
       "      <th>file</th>\n",
       "      <th>text</th>\n",
       "      <th>up_votes</th>\n",
       "      <th>down_votes</th>\n",
       "      <th>age</th>\n",
       "      <th>gender</th>\n",
       "      <th>duration</th>\n",
       "      <th>accent</th>\n",
       "    </tr>\n",
       "  </thead>\n",
       "  <tbody>\n",
       "    <tr>\n",
       "      <th>4</th>\n",
       "      <td>cv-valid-train/sample-000019.mp3</td>\n",
       "      <td>..\\data\\cv-valid-train\\cv-valid-train\\sample-0...</td>\n",
       "      <td>then they got ahold of some dough and went goofy</td>\n",
       "      <td>1</td>\n",
       "      <td>0</td>\n",
       "      <td>fifties</td>\n",
       "      <td>male</td>\n",
       "      <td>NaN</td>\n",
       "      <td>3</td>\n",
       "    </tr>\n",
       "    <tr>\n",
       "      <th>7</th>\n",
       "      <td>cv-valid-train/sample-000026.mp3</td>\n",
       "      <td>..\\data\\cv-valid-train\\cv-valid-train\\sample-0...</td>\n",
       "      <td>two years ago right here on this spot i had a ...</td>\n",
       "      <td>4</td>\n",
       "      <td>0</td>\n",
       "      <td>twenties</td>\n",
       "      <td>female</td>\n",
       "      <td>NaN</td>\n",
       "      <td>3</td>\n",
       "    </tr>\n",
       "    <tr>\n",
       "      <th>8</th>\n",
       "      <td>cv-valid-train/sample-000027.mp3</td>\n",
       "      <td>..\\data\\cv-valid-train\\cv-valid-train\\sample-0...</td>\n",
       "      <td>don't let them see that you're afraid the alch...</td>\n",
       "      <td>3</td>\n",
       "      <td>0</td>\n",
       "      <td>twenties</td>\n",
       "      <td>male</td>\n",
       "      <td>NaN</td>\n",
       "      <td>3</td>\n",
       "    </tr>\n",
       "    <tr>\n",
       "      <th>11</th>\n",
       "      <td>cv-valid-train/sample-000036.mp3</td>\n",
       "      <td>..\\data\\cv-valid-train\\cv-valid-train\\sample-0...</td>\n",
       "      <td>ask the owner of that stall how much the sword...</td>\n",
       "      <td>2</td>\n",
       "      <td>1</td>\n",
       "      <td>twenties</td>\n",
       "      <td>male</td>\n",
       "      <td>NaN</td>\n",
       "      <td>3</td>\n",
       "    </tr>\n",
       "    <tr>\n",
       "      <th>15</th>\n",
       "      <td>cv-valid-train/sample-000049.mp3</td>\n",
       "      <td>..\\data\\cv-valid-train\\cv-valid-train\\sample-0...</td>\n",
       "      <td>so how will we name all these hurricanes</td>\n",
       "      <td>2</td>\n",
       "      <td>1</td>\n",
       "      <td>fourties</td>\n",
       "      <td>male</td>\n",
       "      <td>NaN</td>\n",
       "      <td>3</td>\n",
       "    </tr>\n",
       "  </tbody>\n",
       "</table>\n",
       "</div>"
      ],
      "text/plain": [
       "                            filename  \\\n",
       "4   cv-valid-train/sample-000019.mp3   \n",
       "7   cv-valid-train/sample-000026.mp3   \n",
       "8   cv-valid-train/sample-000027.mp3   \n",
       "11  cv-valid-train/sample-000036.mp3   \n",
       "15  cv-valid-train/sample-000049.mp3   \n",
       "\n",
       "                                                 file  \\\n",
       "4   ..\\data\\cv-valid-train\\cv-valid-train\\sample-0...   \n",
       "7   ..\\data\\cv-valid-train\\cv-valid-train\\sample-0...   \n",
       "8   ..\\data\\cv-valid-train\\cv-valid-train\\sample-0...   \n",
       "11  ..\\data\\cv-valid-train\\cv-valid-train\\sample-0...   \n",
       "15  ..\\data\\cv-valid-train\\cv-valid-train\\sample-0...   \n",
       "\n",
       "                                                 text  up_votes  down_votes  \\\n",
       "4    then they got ahold of some dough and went goofy         1           0   \n",
       "7   two years ago right here on this spot i had a ...         4           0   \n",
       "8   don't let them see that you're afraid the alch...         3           0   \n",
       "11  ask the owner of that stall how much the sword...         2           1   \n",
       "15           so how will we name all these hurricanes         2           1   \n",
       "\n",
       "         age  gender  duration  accent  \n",
       "4    fifties    male       NaN       3  \n",
       "7   twenties  female       NaN       3  \n",
       "8   twenties    male       NaN       3  \n",
       "11  twenties    male       NaN       3  \n",
       "15  fourties    male       NaN       3  "
      ]
     },
     "execution_count": 184,
     "metadata": {},
     "output_type": "execute_result"
    }
   ],
   "source": [
    "df.head()"
   ]
  },
  {
   "cell_type": "markdown",
   "metadata": {},
   "source": [
    "## Audio Processing\n",
    "The transformation of audio data into a format suitable for machine learning models involves extracting relevant features from the audio signals. This process is known as feature extraction and is essential for capturing the characteristics of the audio samples that are relevant to the prediction of accents. In this project, we will use the Librosa library to extract features from the audio files, which will be used as input to the machine learning models."
   ]
  },
  {
   "cell_type": "code",
   "execution_count": 185,
   "metadata": {},
   "outputs": [],
   "source": [
    "RATE_HZ = 16000 # Audios are being sampled at 16,000 times per second\n",
    "\n",
    "MAX_SECONDS = 1 #  Maximum audio interval length in seconds\n",
    "\n",
    "MAX_LENGTH = RATE_HZ * MAX_SECONDS # Maximum audio interval length in samples\n",
    "\n",
    "MIN_RECORDS_PER_LABEL = 25 # Minimum number of records per label\n",
    "\n",
    "TEST_SIZE = 0.1 # Test set size"
   ]
  },
  {
   "cell_type": "code",
   "execution_count": 186,
   "metadata": {},
   "outputs": [],
   "source": [
    "def feature_extraction_with_means(file):\n",
    "    features = {}\n",
    "    audio,_ = librosa.load(file, sr=RATE_HZ)\n",
    "\n",
    "    spectral_centroid = np.mean(librosa.feature.spectral_centroid(y=audio, sr=RATE_HZ)) # Compute the spectral centroid\n",
    "    spectral_bandwidth = np.mean(librosa.feature.spectral_bandwidth(y=audio, sr=RATE_HZ)) # Compute the spectral bandwidth\n",
    "    spectral_rolloff = np.mean(librosa.feature.spectral_rolloff(y=audio, sr=RATE_HZ)) # Compute the spectral rolloff\n",
    "    features['spectral_centroid'] = spectral_centroid\n",
    "    features['spectral_bandwidth'] = spectral_bandwidth\n",
    "    features['spectral_rolloff'] = spectral_rolloff\n",
    "    \n",
    "    mfcc = librosa.feature.mfcc(y=audio, sr=RATE_HZ) # Compute the mel-frequency cepstral coefficients\n",
    "    for i, el in enumerate(mfcc):\n",
    "        features[f'mfcc_{i+1}'] = np.mean(el)\n",
    "    \n",
    "    return pd.DataFrame([features])"
   ]
  },
  {
   "cell_type": "code",
   "execution_count": 187,
   "metadata": {},
   "outputs": [],
   "source": [
    "def feature_extraction(file):\n",
    "    features = {}\n",
    "    audio,_ = librosa.load(file, sr=RATE_HZ)\n",
    "\n",
    "    spectral_centroid = np.mean(librosa.feature.spectral_centroid(y=audio, sr=RATE_HZ)) # Compute the spectral centroid\n",
    "    spectral_bandwidth = np.mean(librosa.feature.spectral_bandwidth(y=audio, sr=RATE_HZ)) # Compute the spectral bandwidth\n",
    "    spectral_rolloff = np.mean(librosa.feature.spectral_rolloff(y=audio, sr=RATE_HZ)) # Compute the spectral rolloff\n",
    "    features['spectral_centroid'] = spectral_centroid\n",
    "    features['spectral_bandwidth'] = spectral_bandwidth\n",
    "    features['spectral_rolloff'] = spectral_rolloff\n",
    "    \n",
    "    # Calcula las características MFCC\n",
    "    mfcc = librosa.feature.mfcc(y=audio, sr=RATE_HZ, n_mfcc=13)\n",
    "\n",
    "    # Calcula las primeras y segundas derivadas de los coeficientes MFCC\n",
    "    mfcc_delta = librosa.feature.delta(mfcc)\n",
    "    mfcc_delta2 = librosa.feature.delta(mfcc, order=2)\n",
    "\n",
    "    # Concatena las tres matrices\n",
    "    concatenated_matrix = np.concatenate((mfcc, mfcc_delta, mfcc_delta2), axis=0)\n",
    "\n",
    "    concatenated_matrix = concatenated_matrix.T\n",
    "\n",
    "\n",
    "    concatenated_matrix = ((concatenated_matrix.T - concatenated_matrix.mean(axis=1)) / concatenated_matrix.std(axis=1))\n",
    "\n",
    "\n",
    "    # Calculte the covariance matrix of the mel-spectrogram\n",
    "    mfcc_covariance = np.cov(concatenated_matrix)\n",
    "\n",
    "\n",
    "    # Extract the upper triangular part of the covariance matrix\n",
    "    upper_triangular = mfcc_covariance[np.triu_indices(mfcc_covariance.shape[0])]\n",
    "\n",
    "    # Store each element of the upper triangular part of the covariance matrix as a feature\n",
    "    for i, el in enumerate(upper_triangular):\n",
    "        features[f'mfcc_covariance_{i+1}'] = el\n",
    "\n",
    "    diff_spectral_centroid = np.mean(np.diff(librosa.feature.spectral_centroid(y=audio, sr=RATE_HZ)))\n",
    "    diff_spectral_bandwidth = np.mean(np.diff(librosa.feature.spectral_bandwidth(y=audio, sr=RATE_HZ)))\n",
    "    diff_spectral_rolloff = np.mean(np.diff(librosa.feature.spectral_rolloff(y=audio, sr=RATE_HZ)))\n",
    "    \n",
    "    features['diff_spectral_centroid'] = diff_spectral_centroid\n",
    "    features['diff_spectral_bandwidth'] = diff_spectral_bandwidth\n",
    "    features['diff_spectral_rolloff'] = diff_spectral_rolloff\n",
    "\n",
    "    \n",
    "    return pd.DataFrame([features])"
   ]
  },
  {
   "cell_type": "markdown",
   "metadata": {},
   "source": [
    "Extracting features from audio files involves converting the audio signals into a numerical representation that can be used as input to machine learning models."
   ]
  },
  {
   "cell_type": "code",
   "execution_count": 188,
   "metadata": {},
   "outputs": [
    {
     "name": "stdout",
     "output_type": "stream",
     "text": [
      "File exists...\n"
     ]
    }
   ],
   "source": [
    "import os\n",
    "\n",
    "absolute_path = os.path.join(os.getcwd(), '../features', 'extracted_features_3.csv')\n",
    "\n",
    "if os.path.exists(absolute_path):\n",
    "    print('File exists...')\n",
    "    df = pd.read_csv(absolute_path)\n",
    "else :\n",
    "    print('Extracting features...')\n",
    "    df_list = list()\n",
    "\n",
    "    for input_file, input_label in tqdm(zip(df['file'], df['accent'])):\n",
    "        resulting_df = feature_extraction(input_file)\n",
    "        if resulting_df is not None:\n",
    "            resulting_df['accent'] = input_label\n",
    "            df_list.append(resulting_df)\n",
    "\n",
    "    df = pd.concat(df_list, axis=0)\n",
    "    df.to_csv(absolute_path, index=False)\n"
   ]
  },
  {
   "cell_type": "code",
   "execution_count": 189,
   "metadata": {},
   "outputs": [
    {
     "data": {
      "text/html": [
       "<div>\n",
       "<style scoped>\n",
       "    .dataframe tbody tr th:only-of-type {\n",
       "        vertical-align: middle;\n",
       "    }\n",
       "\n",
       "    .dataframe tbody tr th {\n",
       "        vertical-align: top;\n",
       "    }\n",
       "\n",
       "    .dataframe thead th {\n",
       "        text-align: right;\n",
       "    }\n",
       "</style>\n",
       "<table border=\"1\" class=\"dataframe\">\n",
       "  <thead>\n",
       "    <tr style=\"text-align: right;\">\n",
       "      <th></th>\n",
       "      <th>spectral_centroid</th>\n",
       "      <th>spectral_bandwidth</th>\n",
       "      <th>spectral_rolloff</th>\n",
       "      <th>mfcc_covariance_1</th>\n",
       "      <th>mfcc_covariance_2</th>\n",
       "      <th>mfcc_covariance_3</th>\n",
       "      <th>mfcc_covariance_4</th>\n",
       "      <th>mfcc_covariance_5</th>\n",
       "      <th>mfcc_covariance_6</th>\n",
       "      <th>mfcc_covariance_7</th>\n",
       "      <th>...</th>\n",
       "      <th>mfcc_covariance_775</th>\n",
       "      <th>mfcc_covariance_776</th>\n",
       "      <th>mfcc_covariance_777</th>\n",
       "      <th>mfcc_covariance_778</th>\n",
       "      <th>mfcc_covariance_779</th>\n",
       "      <th>mfcc_covariance_780</th>\n",
       "      <th>diff_spectral_centroid</th>\n",
       "      <th>diff_spectral_bandwidth</th>\n",
       "      <th>diff_spectral_rolloff</th>\n",
       "      <th>accent</th>\n",
       "    </tr>\n",
       "  </thead>\n",
       "  <tbody>\n",
       "    <tr>\n",
       "      <th>0</th>\n",
       "      <td>1446.691044</td>\n",
       "      <td>1643.481467</td>\n",
       "      <td>2918.068910</td>\n",
       "      <td>0.395939</td>\n",
       "      <td>0.702401</td>\n",
       "      <td>-0.162143</td>\n",
       "      <td>-0.180099</td>\n",
       "      <td>-0.068512</td>\n",
       "      <td>-0.131228</td>\n",
       "      <td>-0.067803</td>\n",
       "      <td>...</td>\n",
       "      <td>0.001067</td>\n",
       "      <td>0.000566</td>\n",
       "      <td>0.000374</td>\n",
       "      <td>0.000915</td>\n",
       "      <td>0.000335</td>\n",
       "      <td>0.000889</td>\n",
       "      <td>-20.044630</td>\n",
       "      <td>-4.850512</td>\n",
       "      <td>-27.478448</td>\n",
       "      <td>3</td>\n",
       "    </tr>\n",
       "    <tr>\n",
       "      <th>1</th>\n",
       "      <td>2187.491472</td>\n",
       "      <td>1719.260458</td>\n",
       "      <td>4048.119029</td>\n",
       "      <td>1.742922</td>\n",
       "      <td>1.272399</td>\n",
       "      <td>-1.446554</td>\n",
       "      <td>0.317820</td>\n",
       "      <td>-0.485391</td>\n",
       "      <td>-0.172454</td>\n",
       "      <td>-0.585181</td>\n",
       "      <td>...</td>\n",
       "      <td>0.002030</td>\n",
       "      <td>0.001101</td>\n",
       "      <td>0.001170</td>\n",
       "      <td>0.002792</td>\n",
       "      <td>0.000856</td>\n",
       "      <td>0.002379</td>\n",
       "      <td>0.377230</td>\n",
       "      <td>0.165771</td>\n",
       "      <td>1.201923</td>\n",
       "      <td>3</td>\n",
       "    </tr>\n",
       "    <tr>\n",
       "      <th>2</th>\n",
       "      <td>1894.619553</td>\n",
       "      <td>1392.854412</td>\n",
       "      <td>3361.292614</td>\n",
       "      <td>1.397712</td>\n",
       "      <td>1.677638</td>\n",
       "      <td>-1.023472</td>\n",
       "      <td>0.437160</td>\n",
       "      <td>-0.206648</td>\n",
       "      <td>-0.551583</td>\n",
       "      <td>-0.065269</td>\n",
       "      <td>...</td>\n",
       "      <td>0.001825</td>\n",
       "      <td>0.001480</td>\n",
       "      <td>0.001326</td>\n",
       "      <td>0.002252</td>\n",
       "      <td>0.001525</td>\n",
       "      <td>0.001880</td>\n",
       "      <td>12.740050</td>\n",
       "      <td>3.893645</td>\n",
       "      <td>20.212156</td>\n",
       "      <td>3</td>\n",
       "    </tr>\n",
       "    <tr>\n",
       "      <th>3</th>\n",
       "      <td>1926.383326</td>\n",
       "      <td>1575.261555</td>\n",
       "      <td>3578.276210</td>\n",
       "      <td>1.502288</td>\n",
       "      <td>1.584860</td>\n",
       "      <td>-0.995345</td>\n",
       "      <td>0.090935</td>\n",
       "      <td>-0.451799</td>\n",
       "      <td>-0.359106</td>\n",
       "      <td>-0.055064</td>\n",
       "      <td>...</td>\n",
       "      <td>0.004129</td>\n",
       "      <td>0.001704</td>\n",
       "      <td>0.002182</td>\n",
       "      <td>0.002933</td>\n",
       "      <td>0.001979</td>\n",
       "      <td>0.002797</td>\n",
       "      <td>5.332136</td>\n",
       "      <td>-0.185564</td>\n",
       "      <td>4.616477</td>\n",
       "      <td>3</td>\n",
       "    </tr>\n",
       "    <tr>\n",
       "      <th>4</th>\n",
       "      <td>1858.007906</td>\n",
       "      <td>1615.545247</td>\n",
       "      <td>3402.053202</td>\n",
       "      <td>0.273885</td>\n",
       "      <td>0.596182</td>\n",
       "      <td>-0.085813</td>\n",
       "      <td>-0.082098</td>\n",
       "      <td>-0.194796</td>\n",
       "      <td>-0.137115</td>\n",
       "      <td>-0.106635</td>\n",
       "      <td>...</td>\n",
       "      <td>0.001092</td>\n",
       "      <td>0.000642</td>\n",
       "      <td>0.000879</td>\n",
       "      <td>0.001587</td>\n",
       "      <td>0.001071</td>\n",
       "      <td>0.001359</td>\n",
       "      <td>0.808216</td>\n",
       "      <td>0.257456</td>\n",
       "      <td>1.041667</td>\n",
       "      <td>3</td>\n",
       "    </tr>\n",
       "  </tbody>\n",
       "</table>\n",
       "<p>5 rows × 787 columns</p>\n",
       "</div>"
      ],
      "text/plain": [
       "   spectral_centroid  spectral_bandwidth  spectral_rolloff  mfcc_covariance_1  \\\n",
       "0        1446.691044         1643.481467       2918.068910           0.395939   \n",
       "1        2187.491472         1719.260458       4048.119029           1.742922   \n",
       "2        1894.619553         1392.854412       3361.292614           1.397712   \n",
       "3        1926.383326         1575.261555       3578.276210           1.502288   \n",
       "4        1858.007906         1615.545247       3402.053202           0.273885   \n",
       "\n",
       "   mfcc_covariance_2  mfcc_covariance_3  mfcc_covariance_4  mfcc_covariance_5  \\\n",
       "0           0.702401          -0.162143          -0.180099          -0.068512   \n",
       "1           1.272399          -1.446554           0.317820          -0.485391   \n",
       "2           1.677638          -1.023472           0.437160          -0.206648   \n",
       "3           1.584860          -0.995345           0.090935          -0.451799   \n",
       "4           0.596182          -0.085813          -0.082098          -0.194796   \n",
       "\n",
       "   mfcc_covariance_6  mfcc_covariance_7  ...  mfcc_covariance_775  \\\n",
       "0          -0.131228          -0.067803  ...             0.001067   \n",
       "1          -0.172454          -0.585181  ...             0.002030   \n",
       "2          -0.551583          -0.065269  ...             0.001825   \n",
       "3          -0.359106          -0.055064  ...             0.004129   \n",
       "4          -0.137115          -0.106635  ...             0.001092   \n",
       "\n",
       "   mfcc_covariance_776  mfcc_covariance_777  mfcc_covariance_778  \\\n",
       "0             0.000566             0.000374             0.000915   \n",
       "1             0.001101             0.001170             0.002792   \n",
       "2             0.001480             0.001326             0.002252   \n",
       "3             0.001704             0.002182             0.002933   \n",
       "4             0.000642             0.000879             0.001587   \n",
       "\n",
       "   mfcc_covariance_779  mfcc_covariance_780  diff_spectral_centroid  \\\n",
       "0             0.000335             0.000889              -20.044630   \n",
       "1             0.000856             0.002379                0.377230   \n",
       "2             0.001525             0.001880               12.740050   \n",
       "3             0.001979             0.002797                5.332136   \n",
       "4             0.001071             0.001359                0.808216   \n",
       "\n",
       "   diff_spectral_bandwidth  diff_spectral_rolloff  accent  \n",
       "0                -4.850512             -27.478448       3  \n",
       "1                 0.165771               1.201923       3  \n",
       "2                 3.893645              20.212156       3  \n",
       "3                -0.185564               4.616477       3  \n",
       "4                 0.257456               1.041667       3  \n",
       "\n",
       "[5 rows x 787 columns]"
      ]
     },
     "execution_count": 189,
     "metadata": {},
     "output_type": "execute_result"
    }
   ],
   "source": [
    "df.head()"
   ]
  },
  {
   "cell_type": "markdown",
   "metadata": {},
   "source": [
    "# **Principal Component Analysis (PCA)**\n",
    "\n",
    "Principal Component Analysis (PCA) is a dimensionality reduction technique that is widely used in machine learning and data analysis to reduce the number of features in a dataset while preserving the variance of the data. PCA works by transforming the original features into a new set of orthogonal features called principal components, which are linear combinations of the original features. These principal components capture the most significant variations in the data and can be used to reduce the dimensionality of the dataset.\n",
    "\n",
    "\n",
    "PCA is afected by the scale of the data, so it is important to scale the data before applying PCA. In this project, we will use the StandardScaler from the scikit-learn library to scale the data before applying PCA."
   ]
  },
  {
   "cell_type": "markdown",
   "metadata": {},
   "source": [
    "Feature to estandarize:"
   ]
  },
  {
   "cell_type": "code",
   "execution_count": 190,
   "metadata": {},
   "outputs": [
    {
     "data": {
      "text/html": [
       "<div>\n",
       "<style scoped>\n",
       "    .dataframe tbody tr th:only-of-type {\n",
       "        vertical-align: middle;\n",
       "    }\n",
       "\n",
       "    .dataframe tbody tr th {\n",
       "        vertical-align: top;\n",
       "    }\n",
       "\n",
       "    .dataframe thead th {\n",
       "        text-align: right;\n",
       "    }\n",
       "</style>\n",
       "<table border=\"1\" class=\"dataframe\">\n",
       "  <thead>\n",
       "    <tr style=\"text-align: right;\">\n",
       "      <th></th>\n",
       "      <th>spectral_centroid</th>\n",
       "      <th>spectral_bandwidth</th>\n",
       "      <th>spectral_rolloff</th>\n",
       "      <th>mfcc_covariance_1</th>\n",
       "      <th>mfcc_covariance_2</th>\n",
       "      <th>mfcc_covariance_3</th>\n",
       "      <th>mfcc_covariance_4</th>\n",
       "      <th>mfcc_covariance_5</th>\n",
       "      <th>mfcc_covariance_6</th>\n",
       "      <th>mfcc_covariance_7</th>\n",
       "      <th>...</th>\n",
       "      <th>mfcc_covariance_775</th>\n",
       "      <th>mfcc_covariance_776</th>\n",
       "      <th>mfcc_covariance_777</th>\n",
       "      <th>mfcc_covariance_778</th>\n",
       "      <th>mfcc_covariance_779</th>\n",
       "      <th>mfcc_covariance_780</th>\n",
       "      <th>diff_spectral_centroid</th>\n",
       "      <th>diff_spectral_bandwidth</th>\n",
       "      <th>diff_spectral_rolloff</th>\n",
       "      <th>accent</th>\n",
       "    </tr>\n",
       "  </thead>\n",
       "  <tbody>\n",
       "    <tr>\n",
       "      <th>0</th>\n",
       "      <td>1446.691044</td>\n",
       "      <td>1643.481467</td>\n",
       "      <td>2918.068910</td>\n",
       "      <td>0.395939</td>\n",
       "      <td>0.702401</td>\n",
       "      <td>-0.162143</td>\n",
       "      <td>-0.180099</td>\n",
       "      <td>-0.068512</td>\n",
       "      <td>-0.131228</td>\n",
       "      <td>-0.067803</td>\n",
       "      <td>...</td>\n",
       "      <td>0.001067</td>\n",
       "      <td>0.000566</td>\n",
       "      <td>0.000374</td>\n",
       "      <td>0.000915</td>\n",
       "      <td>0.000335</td>\n",
       "      <td>0.000889</td>\n",
       "      <td>-20.044630</td>\n",
       "      <td>-4.850512</td>\n",
       "      <td>-27.478448</td>\n",
       "      <td>3</td>\n",
       "    </tr>\n",
       "    <tr>\n",
       "      <th>1</th>\n",
       "      <td>2187.491472</td>\n",
       "      <td>1719.260458</td>\n",
       "      <td>4048.119029</td>\n",
       "      <td>1.742922</td>\n",
       "      <td>1.272399</td>\n",
       "      <td>-1.446554</td>\n",
       "      <td>0.317820</td>\n",
       "      <td>-0.485391</td>\n",
       "      <td>-0.172454</td>\n",
       "      <td>-0.585181</td>\n",
       "      <td>...</td>\n",
       "      <td>0.002030</td>\n",
       "      <td>0.001101</td>\n",
       "      <td>0.001170</td>\n",
       "      <td>0.002792</td>\n",
       "      <td>0.000856</td>\n",
       "      <td>0.002379</td>\n",
       "      <td>0.377230</td>\n",
       "      <td>0.165771</td>\n",
       "      <td>1.201923</td>\n",
       "      <td>3</td>\n",
       "    </tr>\n",
       "    <tr>\n",
       "      <th>2</th>\n",
       "      <td>1894.619553</td>\n",
       "      <td>1392.854412</td>\n",
       "      <td>3361.292614</td>\n",
       "      <td>1.397712</td>\n",
       "      <td>1.677638</td>\n",
       "      <td>-1.023472</td>\n",
       "      <td>0.437160</td>\n",
       "      <td>-0.206648</td>\n",
       "      <td>-0.551583</td>\n",
       "      <td>-0.065269</td>\n",
       "      <td>...</td>\n",
       "      <td>0.001825</td>\n",
       "      <td>0.001480</td>\n",
       "      <td>0.001326</td>\n",
       "      <td>0.002252</td>\n",
       "      <td>0.001525</td>\n",
       "      <td>0.001880</td>\n",
       "      <td>12.740050</td>\n",
       "      <td>3.893645</td>\n",
       "      <td>20.212156</td>\n",
       "      <td>3</td>\n",
       "    </tr>\n",
       "    <tr>\n",
       "      <th>3</th>\n",
       "      <td>1926.383326</td>\n",
       "      <td>1575.261555</td>\n",
       "      <td>3578.276210</td>\n",
       "      <td>1.502288</td>\n",
       "      <td>1.584860</td>\n",
       "      <td>-0.995345</td>\n",
       "      <td>0.090935</td>\n",
       "      <td>-0.451799</td>\n",
       "      <td>-0.359106</td>\n",
       "      <td>-0.055064</td>\n",
       "      <td>...</td>\n",
       "      <td>0.004129</td>\n",
       "      <td>0.001704</td>\n",
       "      <td>0.002182</td>\n",
       "      <td>0.002933</td>\n",
       "      <td>0.001979</td>\n",
       "      <td>0.002797</td>\n",
       "      <td>5.332136</td>\n",
       "      <td>-0.185564</td>\n",
       "      <td>4.616477</td>\n",
       "      <td>3</td>\n",
       "    </tr>\n",
       "    <tr>\n",
       "      <th>4</th>\n",
       "      <td>1858.007906</td>\n",
       "      <td>1615.545247</td>\n",
       "      <td>3402.053202</td>\n",
       "      <td>0.273885</td>\n",
       "      <td>0.596182</td>\n",
       "      <td>-0.085813</td>\n",
       "      <td>-0.082098</td>\n",
       "      <td>-0.194796</td>\n",
       "      <td>-0.137115</td>\n",
       "      <td>-0.106635</td>\n",
       "      <td>...</td>\n",
       "      <td>0.001092</td>\n",
       "      <td>0.000642</td>\n",
       "      <td>0.000879</td>\n",
       "      <td>0.001587</td>\n",
       "      <td>0.001071</td>\n",
       "      <td>0.001359</td>\n",
       "      <td>0.808216</td>\n",
       "      <td>0.257456</td>\n",
       "      <td>1.041667</td>\n",
       "      <td>3</td>\n",
       "    </tr>\n",
       "  </tbody>\n",
       "</table>\n",
       "<p>5 rows × 787 columns</p>\n",
       "</div>"
      ],
      "text/plain": [
       "   spectral_centroid  spectral_bandwidth  spectral_rolloff  mfcc_covariance_1  \\\n",
       "0        1446.691044         1643.481467       2918.068910           0.395939   \n",
       "1        2187.491472         1719.260458       4048.119029           1.742922   \n",
       "2        1894.619553         1392.854412       3361.292614           1.397712   \n",
       "3        1926.383326         1575.261555       3578.276210           1.502288   \n",
       "4        1858.007906         1615.545247       3402.053202           0.273885   \n",
       "\n",
       "   mfcc_covariance_2  mfcc_covariance_3  mfcc_covariance_4  mfcc_covariance_5  \\\n",
       "0           0.702401          -0.162143          -0.180099          -0.068512   \n",
       "1           1.272399          -1.446554           0.317820          -0.485391   \n",
       "2           1.677638          -1.023472           0.437160          -0.206648   \n",
       "3           1.584860          -0.995345           0.090935          -0.451799   \n",
       "4           0.596182          -0.085813          -0.082098          -0.194796   \n",
       "\n",
       "   mfcc_covariance_6  mfcc_covariance_7  ...  mfcc_covariance_775  \\\n",
       "0          -0.131228          -0.067803  ...             0.001067   \n",
       "1          -0.172454          -0.585181  ...             0.002030   \n",
       "2          -0.551583          -0.065269  ...             0.001825   \n",
       "3          -0.359106          -0.055064  ...             0.004129   \n",
       "4          -0.137115          -0.106635  ...             0.001092   \n",
       "\n",
       "   mfcc_covariance_776  mfcc_covariance_777  mfcc_covariance_778  \\\n",
       "0             0.000566             0.000374             0.000915   \n",
       "1             0.001101             0.001170             0.002792   \n",
       "2             0.001480             0.001326             0.002252   \n",
       "3             0.001704             0.002182             0.002933   \n",
       "4             0.000642             0.000879             0.001587   \n",
       "\n",
       "   mfcc_covariance_779  mfcc_covariance_780  diff_spectral_centroid  \\\n",
       "0             0.000335             0.000889              -20.044630   \n",
       "1             0.000856             0.002379                0.377230   \n",
       "2             0.001525             0.001880               12.740050   \n",
       "3             0.001979             0.002797                5.332136   \n",
       "4             0.001071             0.001359                0.808216   \n",
       "\n",
       "   diff_spectral_bandwidth  diff_spectral_rolloff  accent  \n",
       "0                -4.850512             -27.478448       3  \n",
       "1                 0.165771               1.201923       3  \n",
       "2                 3.893645              20.212156       3  \n",
       "3                -0.185564               4.616477       3  \n",
       "4                 0.257456               1.041667       3  \n",
       "\n",
       "[5 rows x 787 columns]"
      ]
     },
     "execution_count": 190,
     "metadata": {},
     "output_type": "execute_result"
    }
   ],
   "source": [
    "df.head()"
   ]
  },
  {
   "cell_type": "code",
   "execution_count": 191,
   "metadata": {},
   "outputs": [],
   "source": [
    "from sklearn.preprocessing import StandardScaler\n",
    "\n",
    "df = pd.read_csv('../features/extracted_features_2.csv')\n",
    "\n",
    "features = df.columns[:-1]\n",
    "\n",
    "\n",
    "# Separating out the features\n",
    "x = df.loc[:, features].values\n",
    "\n",
    "# Separating out the target\n",
    "y = df.loc[:,['accent']].values\n",
    "\n",
    "\n",
    "# Standardizing the features\n",
    "x = StandardScaler().fit_transform(x)"
   ]
  },
  {
   "cell_type": "code",
   "execution_count": 192,
   "metadata": {},
   "outputs": [
    {
     "data": {
      "text/html": [
       "<div>\n",
       "<style scoped>\n",
       "    .dataframe tbody tr th:only-of-type {\n",
       "        vertical-align: middle;\n",
       "    }\n",
       "\n",
       "    .dataframe tbody tr th {\n",
       "        vertical-align: top;\n",
       "    }\n",
       "\n",
       "    .dataframe thead th {\n",
       "        text-align: right;\n",
       "    }\n",
       "</style>\n",
       "<table border=\"1\" class=\"dataframe\">\n",
       "  <thead>\n",
       "    <tr style=\"text-align: right;\">\n",
       "      <th></th>\n",
       "      <th>spectral_centroid</th>\n",
       "      <th>spectral_bandwidth</th>\n",
       "      <th>spectral_rolloff</th>\n",
       "      <th>mfcc_1</th>\n",
       "      <th>mfcc_2</th>\n",
       "      <th>mfcc_3</th>\n",
       "      <th>mfcc_4</th>\n",
       "      <th>mfcc_5</th>\n",
       "      <th>mfcc_6</th>\n",
       "      <th>mfcc_7</th>\n",
       "      <th>...</th>\n",
       "      <th>mfcc_12</th>\n",
       "      <th>mfcc_13</th>\n",
       "      <th>mfcc_14</th>\n",
       "      <th>mfcc_15</th>\n",
       "      <th>mfcc_16</th>\n",
       "      <th>mfcc_17</th>\n",
       "      <th>mfcc_18</th>\n",
       "      <th>mfcc_19</th>\n",
       "      <th>mfcc_20</th>\n",
       "      <th>accent</th>\n",
       "    </tr>\n",
       "  </thead>\n",
       "  <tbody>\n",
       "    <tr>\n",
       "      <th>0</th>\n",
       "      <td>1446.691044</td>\n",
       "      <td>1643.481467</td>\n",
       "      <td>2918.068910</td>\n",
       "      <td>-259.87490</td>\n",
       "      <td>122.306564</td>\n",
       "      <td>16.917711</td>\n",
       "      <td>10.219314</td>\n",
       "      <td>13.327199</td>\n",
       "      <td>8.823154</td>\n",
       "      <td>8.225206</td>\n",
       "      <td>...</td>\n",
       "      <td>3.817420</td>\n",
       "      <td>-3.052747</td>\n",
       "      <td>6.017389</td>\n",
       "      <td>-4.560657</td>\n",
       "      <td>2.862503</td>\n",
       "      <td>-3.928597</td>\n",
       "      <td>8.349125</td>\n",
       "      <td>-6.214357</td>\n",
       "      <td>1.375421</td>\n",
       "      <td>3</td>\n",
       "    </tr>\n",
       "    <tr>\n",
       "      <th>1</th>\n",
       "      <td>2187.491472</td>\n",
       "      <td>1719.260458</td>\n",
       "      <td>4048.119029</td>\n",
       "      <td>-207.99960</td>\n",
       "      <td>71.348305</td>\n",
       "      <td>-5.940102</td>\n",
       "      <td>35.687270</td>\n",
       "      <td>8.889826</td>\n",
       "      <td>-10.560427</td>\n",
       "      <td>-19.091818</td>\n",
       "      <td>...</td>\n",
       "      <td>2.461109</td>\n",
       "      <td>-8.039398</td>\n",
       "      <td>-10.819617</td>\n",
       "      <td>-5.266748</td>\n",
       "      <td>-10.238380</td>\n",
       "      <td>-11.084863</td>\n",
       "      <td>2.562678</td>\n",
       "      <td>-8.303602</td>\n",
       "      <td>-3.415712</td>\n",
       "      <td>3</td>\n",
       "    </tr>\n",
       "    <tr>\n",
       "      <th>2</th>\n",
       "      <td>1894.619553</td>\n",
       "      <td>1392.854412</td>\n",
       "      <td>3361.292614</td>\n",
       "      <td>-300.88990</td>\n",
       "      <td>100.381460</td>\n",
       "      <td>-29.792233</td>\n",
       "      <td>35.550663</td>\n",
       "      <td>-10.862653</td>\n",
       "      <td>-23.641230</td>\n",
       "      <td>-1.242105</td>\n",
       "      <td>...</td>\n",
       "      <td>9.834576</td>\n",
       "      <td>-3.892405</td>\n",
       "      <td>-7.340332</td>\n",
       "      <td>-2.482064</td>\n",
       "      <td>-3.793032</td>\n",
       "      <td>-6.573595</td>\n",
       "      <td>-0.230559</td>\n",
       "      <td>-9.262347</td>\n",
       "      <td>-4.456256</td>\n",
       "      <td>3</td>\n",
       "    </tr>\n",
       "    <tr>\n",
       "      <th>3</th>\n",
       "      <td>1926.383326</td>\n",
       "      <td>1575.261555</td>\n",
       "      <td>3578.276210</td>\n",
       "      <td>-237.73344</td>\n",
       "      <td>98.689880</td>\n",
       "      <td>-7.453061</td>\n",
       "      <td>28.496035</td>\n",
       "      <td>-15.077618</td>\n",
       "      <td>-18.470432</td>\n",
       "      <td>-19.584766</td>\n",
       "      <td>...</td>\n",
       "      <td>5.188633</td>\n",
       "      <td>-12.152077</td>\n",
       "      <td>-0.219411</td>\n",
       "      <td>-7.757760</td>\n",
       "      <td>-6.961402</td>\n",
       "      <td>-6.854813</td>\n",
       "      <td>3.746773</td>\n",
       "      <td>-8.498478</td>\n",
       "      <td>7.934193</td>\n",
       "      <td>3</td>\n",
       "    </tr>\n",
       "    <tr>\n",
       "      <th>4</th>\n",
       "      <td>1858.007906</td>\n",
       "      <td>1615.545247</td>\n",
       "      <td>3402.053202</td>\n",
       "      <td>-393.29670</td>\n",
       "      <td>88.668526</td>\n",
       "      <td>10.788974</td>\n",
       "      <td>12.251562</td>\n",
       "      <td>-7.998648</td>\n",
       "      <td>-8.975076</td>\n",
       "      <td>-13.692014</td>\n",
       "      <td>...</td>\n",
       "      <td>-3.105668</td>\n",
       "      <td>-9.158148</td>\n",
       "      <td>0.212392</td>\n",
       "      <td>-10.716672</td>\n",
       "      <td>-2.162414</td>\n",
       "      <td>-5.769405</td>\n",
       "      <td>-5.327674</td>\n",
       "      <td>-4.526900</td>\n",
       "      <td>-6.510139</td>\n",
       "      <td>3</td>\n",
       "    </tr>\n",
       "  </tbody>\n",
       "</table>\n",
       "<p>5 rows × 24 columns</p>\n",
       "</div>"
      ],
      "text/plain": [
       "   spectral_centroid  spectral_bandwidth  spectral_rolloff     mfcc_1  \\\n",
       "0        1446.691044         1643.481467       2918.068910 -259.87490   \n",
       "1        2187.491472         1719.260458       4048.119029 -207.99960   \n",
       "2        1894.619553         1392.854412       3361.292614 -300.88990   \n",
       "3        1926.383326         1575.261555       3578.276210 -237.73344   \n",
       "4        1858.007906         1615.545247       3402.053202 -393.29670   \n",
       "\n",
       "       mfcc_2     mfcc_3     mfcc_4     mfcc_5     mfcc_6     mfcc_7  ...  \\\n",
       "0  122.306564  16.917711  10.219314  13.327199   8.823154   8.225206  ...   \n",
       "1   71.348305  -5.940102  35.687270   8.889826 -10.560427 -19.091818  ...   \n",
       "2  100.381460 -29.792233  35.550663 -10.862653 -23.641230  -1.242105  ...   \n",
       "3   98.689880  -7.453061  28.496035 -15.077618 -18.470432 -19.584766  ...   \n",
       "4   88.668526  10.788974  12.251562  -7.998648  -8.975076 -13.692014  ...   \n",
       "\n",
       "    mfcc_12    mfcc_13    mfcc_14    mfcc_15    mfcc_16    mfcc_17   mfcc_18  \\\n",
       "0  3.817420  -3.052747   6.017389  -4.560657   2.862503  -3.928597  8.349125   \n",
       "1  2.461109  -8.039398 -10.819617  -5.266748 -10.238380 -11.084863  2.562678   \n",
       "2  9.834576  -3.892405  -7.340332  -2.482064  -3.793032  -6.573595 -0.230559   \n",
       "3  5.188633 -12.152077  -0.219411  -7.757760  -6.961402  -6.854813  3.746773   \n",
       "4 -3.105668  -9.158148   0.212392 -10.716672  -2.162414  -5.769405 -5.327674   \n",
       "\n",
       "    mfcc_19   mfcc_20  accent  \n",
       "0 -6.214357  1.375421       3  \n",
       "1 -8.303602 -3.415712       3  \n",
       "2 -9.262347 -4.456256       3  \n",
       "3 -8.498478  7.934193       3  \n",
       "4 -4.526900 -6.510139       3  \n",
       "\n",
       "[5 rows x 24 columns]"
      ]
     },
     "execution_count": 192,
     "metadata": {},
     "output_type": "execute_result"
    }
   ],
   "source": [
    "df.head()"
   ]
  },
  {
   "cell_type": "markdown",
   "metadata": {},
   "source": [
    "The original data has 23 features, after applying PCA we will have 2 principal components."
   ]
  },
  {
   "cell_type": "markdown",
   "metadata": {},
   "source": [
    "Concatenating the principal components with the target variable:"
   ]
  },
  {
   "cell_type": "markdown",
   "metadata": {},
   "source": [
    "visualizing the data in a 2D plot:"
   ]
  },
  {
   "cell_type": "markdown",
   "metadata": {},
   "source": [
    "It is possible to see that if we use only two principal components we can't separate the data by accent, so we will use to find the optimal number of components to use in the model."
   ]
  },
  {
   "cell_type": "code",
   "execution_count": 193,
   "metadata": {},
   "outputs": [
    {
     "data": {
      "image/png": "[encoded data removed]",
      "text/plain": [
       "<Figure size 640x480 with 1 Axes>"
      ]
     },
     "metadata": {},
     "output_type": "display_data"
    }
   ],
   "source": [
    "# import pca\n",
    "from sklearn.decomposition import PCA\n",
    "\n",
    "\n",
    "\n",
    "pca = PCA()\n",
    "reduced_data = pca.fit_transform(x)\n",
    "\n",
    "var_acum = np.cumsum(pca.explained_variance_/np.sum(pca.explained_variance_)*100)\n",
    "\n",
    "plt.plot(var_acum)\n",
    "y_aux = 90*np.ones(var_acum.size)\n",
    "x_aux = np.arange(var_acum.size)\n",
    "\n",
    "plt.plot(x_aux,y_aux, 'r--')\n",
    "plt.grid()"
   ]
  },
  {
   "cell_type": "markdown",
   "metadata": {},
   "source": [
    "In the above plot, we can see that the explained variance ratio starts to decrease after the 10th component. Therefore, we will use 15 components to train the model."
   ]
  },
  {
   "cell_type": "code",
   "execution_count": 194,
   "metadata": {},
   "outputs": [],
   "source": [
    "from sklearn.decomposition import PCA\n",
    "\n",
    "pca = PCA(n_components=15)\n",
    "\n",
    "principalComponents = pca.fit_transform(x)\n",
    "\n",
    "principalDf = pd.DataFrame(data = principalComponents, \n",
    "                           columns = [f'pc_{i}' for i in range(1,16)])"
   ]
  },
  {
   "cell_type": "markdown",
   "metadata": {},
   "source": [
    "Concatenating the principal components with the target variable:"
   ]
  },
  {
   "cell_type": "code",
   "execution_count": 195,
   "metadata": {},
   "outputs": [
    {
     "data": {
      "text/html": [
       "<div>\n",
       "<style scoped>\n",
       "    .dataframe tbody tr th:only-of-type {\n",
       "        vertical-align: middle;\n",
       "    }\n",
       "\n",
       "    .dataframe tbody tr th {\n",
       "        vertical-align: top;\n",
       "    }\n",
       "\n",
       "    .dataframe thead th {\n",
       "        text-align: right;\n",
       "    }\n",
       "</style>\n",
       "<table border=\"1\" class=\"dataframe\">\n",
       "  <thead>\n",
       "    <tr style=\"text-align: right;\">\n",
       "      <th></th>\n",
       "      <th>spectral_centroid</th>\n",
       "      <th>spectral_bandwidth</th>\n",
       "      <th>spectral_rolloff</th>\n",
       "      <th>mfcc_1</th>\n",
       "      <th>mfcc_2</th>\n",
       "      <th>mfcc_3</th>\n",
       "      <th>mfcc_4</th>\n",
       "      <th>mfcc_5</th>\n",
       "      <th>mfcc_6</th>\n",
       "      <th>mfcc_7</th>\n",
       "      <th>...</th>\n",
       "      <th>mfcc_12</th>\n",
       "      <th>mfcc_13</th>\n",
       "      <th>mfcc_14</th>\n",
       "      <th>mfcc_15</th>\n",
       "      <th>mfcc_16</th>\n",
       "      <th>mfcc_17</th>\n",
       "      <th>mfcc_18</th>\n",
       "      <th>mfcc_19</th>\n",
       "      <th>mfcc_20</th>\n",
       "      <th>accent</th>\n",
       "    </tr>\n",
       "  </thead>\n",
       "  <tbody>\n",
       "    <tr>\n",
       "      <th>0</th>\n",
       "      <td>1446.691044</td>\n",
       "      <td>1643.481467</td>\n",
       "      <td>2918.068910</td>\n",
       "      <td>-259.87490</td>\n",
       "      <td>122.306564</td>\n",
       "      <td>16.917711</td>\n",
       "      <td>10.219314</td>\n",
       "      <td>13.327199</td>\n",
       "      <td>8.823154</td>\n",
       "      <td>8.225206</td>\n",
       "      <td>...</td>\n",
       "      <td>3.817420</td>\n",
       "      <td>-3.052747</td>\n",
       "      <td>6.017389</td>\n",
       "      <td>-4.560657</td>\n",
       "      <td>2.862503</td>\n",
       "      <td>-3.928597</td>\n",
       "      <td>8.349125</td>\n",
       "      <td>-6.214357</td>\n",
       "      <td>1.375421</td>\n",
       "      <td>3</td>\n",
       "    </tr>\n",
       "    <tr>\n",
       "      <th>1</th>\n",
       "      <td>2187.491472</td>\n",
       "      <td>1719.260458</td>\n",
       "      <td>4048.119029</td>\n",
       "      <td>-207.99960</td>\n",
       "      <td>71.348305</td>\n",
       "      <td>-5.940102</td>\n",
       "      <td>35.687270</td>\n",
       "      <td>8.889826</td>\n",
       "      <td>-10.560427</td>\n",
       "      <td>-19.091818</td>\n",
       "      <td>...</td>\n",
       "      <td>2.461109</td>\n",
       "      <td>-8.039398</td>\n",
       "      <td>-10.819617</td>\n",
       "      <td>-5.266748</td>\n",
       "      <td>-10.238380</td>\n",
       "      <td>-11.084863</td>\n",
       "      <td>2.562678</td>\n",
       "      <td>-8.303602</td>\n",
       "      <td>-3.415712</td>\n",
       "      <td>3</td>\n",
       "    </tr>\n",
       "    <tr>\n",
       "      <th>2</th>\n",
       "      <td>1894.619553</td>\n",
       "      <td>1392.854412</td>\n",
       "      <td>3361.292614</td>\n",
       "      <td>-300.88990</td>\n",
       "      <td>100.381460</td>\n",
       "      <td>-29.792233</td>\n",
       "      <td>35.550663</td>\n",
       "      <td>-10.862653</td>\n",
       "      <td>-23.641230</td>\n",
       "      <td>-1.242105</td>\n",
       "      <td>...</td>\n",
       "      <td>9.834576</td>\n",
       "      <td>-3.892405</td>\n",
       "      <td>-7.340332</td>\n",
       "      <td>-2.482064</td>\n",
       "      <td>-3.793032</td>\n",
       "      <td>-6.573595</td>\n",
       "      <td>-0.230559</td>\n",
       "      <td>-9.262347</td>\n",
       "      <td>-4.456256</td>\n",
       "      <td>3</td>\n",
       "    </tr>\n",
       "    <tr>\n",
       "      <th>3</th>\n",
       "      <td>1926.383326</td>\n",
       "      <td>1575.261555</td>\n",
       "      <td>3578.276210</td>\n",
       "      <td>-237.73344</td>\n",
       "      <td>98.689880</td>\n",
       "      <td>-7.453061</td>\n",
       "      <td>28.496035</td>\n",
       "      <td>-15.077618</td>\n",
       "      <td>-18.470432</td>\n",
       "      <td>-19.584766</td>\n",
       "      <td>...</td>\n",
       "      <td>5.188633</td>\n",
       "      <td>-12.152077</td>\n",
       "      <td>-0.219411</td>\n",
       "      <td>-7.757760</td>\n",
       "      <td>-6.961402</td>\n",
       "      <td>-6.854813</td>\n",
       "      <td>3.746773</td>\n",
       "      <td>-8.498478</td>\n",
       "      <td>7.934193</td>\n",
       "      <td>3</td>\n",
       "    </tr>\n",
       "    <tr>\n",
       "      <th>4</th>\n",
       "      <td>1858.007906</td>\n",
       "      <td>1615.545247</td>\n",
       "      <td>3402.053202</td>\n",
       "      <td>-393.29670</td>\n",
       "      <td>88.668526</td>\n",
       "      <td>10.788974</td>\n",
       "      <td>12.251562</td>\n",
       "      <td>-7.998648</td>\n",
       "      <td>-8.975076</td>\n",
       "      <td>-13.692014</td>\n",
       "      <td>...</td>\n",
       "      <td>-3.105668</td>\n",
       "      <td>-9.158148</td>\n",
       "      <td>0.212392</td>\n",
       "      <td>-10.716672</td>\n",
       "      <td>-2.162414</td>\n",
       "      <td>-5.769405</td>\n",
       "      <td>-5.327674</td>\n",
       "      <td>-4.526900</td>\n",
       "      <td>-6.510139</td>\n",
       "      <td>3</td>\n",
       "    </tr>\n",
       "  </tbody>\n",
       "</table>\n",
       "<p>5 rows × 24 columns</p>\n",
       "</div>"
      ],
      "text/plain": [
       "   spectral_centroid  spectral_bandwidth  spectral_rolloff     mfcc_1  \\\n",
       "0        1446.691044         1643.481467       2918.068910 -259.87490   \n",
       "1        2187.491472         1719.260458       4048.119029 -207.99960   \n",
       "2        1894.619553         1392.854412       3361.292614 -300.88990   \n",
       "3        1926.383326         1575.261555       3578.276210 -237.73344   \n",
       "4        1858.007906         1615.545247       3402.053202 -393.29670   \n",
       "\n",
       "       mfcc_2     mfcc_3     mfcc_4     mfcc_5     mfcc_6     mfcc_7  ...  \\\n",
       "0  122.306564  16.917711  10.219314  13.327199   8.823154   8.225206  ...   \n",
       "1   71.348305  -5.940102  35.687270   8.889826 -10.560427 -19.091818  ...   \n",
       "2  100.381460 -29.792233  35.550663 -10.862653 -23.641230  -1.242105  ...   \n",
       "3   98.689880  -7.453061  28.496035 -15.077618 -18.470432 -19.584766  ...   \n",
       "4   88.668526  10.788974  12.251562  -7.998648  -8.975076 -13.692014  ...   \n",
       "\n",
       "    mfcc_12    mfcc_13    mfcc_14    mfcc_15    mfcc_16    mfcc_17   mfcc_18  \\\n",
       "0  3.817420  -3.052747   6.017389  -4.560657   2.862503  -3.928597  8.349125   \n",
       "1  2.461109  -8.039398 -10.819617  -5.266748 -10.238380 -11.084863  2.562678   \n",
       "2  9.834576  -3.892405  -7.340332  -2.482064  -3.793032  -6.573595 -0.230559   \n",
       "3  5.188633 -12.152077  -0.219411  -7.757760  -6.961402  -6.854813  3.746773   \n",
       "4 -3.105668  -9.158148   0.212392 -10.716672  -2.162414  -5.769405 -5.327674   \n",
       "\n",
       "    mfcc_19   mfcc_20  accent  \n",
       "0 -6.214357  1.375421       3  \n",
       "1 -8.303602 -3.415712       3  \n",
       "2 -9.262347 -4.456256       3  \n",
       "3 -8.498478  7.934193       3  \n",
       "4 -4.526900 -6.510139       3  \n",
       "\n",
       "[5 rows x 24 columns]"
      ]
     },
     "execution_count": 195,
     "metadata": {},
     "output_type": "execute_result"
    }
   ],
   "source": [
    "df.head()"
   ]
  },
  {
   "cell_type": "code",
   "execution_count": 196,
   "metadata": {},
   "outputs": [],
   "source": [
    "finalDf = pd.concat([principalDf, df[['accent']]], axis = 1)"
   ]
  },
  {
   "cell_type": "code",
   "execution_count": 197,
   "metadata": {},
   "outputs": [
    {
     "data": {
      "text/html": [
       "<div>\n",
       "<style scoped>\n",
       "    .dataframe tbody tr th:only-of-type {\n",
       "        vertical-align: middle;\n",
       "    }\n",
       "\n",
       "    .dataframe tbody tr th {\n",
       "        vertical-align: top;\n",
       "    }\n",
       "\n",
       "    .dataframe thead th {\n",
       "        text-align: right;\n",
       "    }\n",
       "</style>\n",
       "<table border=\"1\" class=\"dataframe\">\n",
       "  <thead>\n",
       "    <tr style=\"text-align: right;\">\n",
       "      <th></th>\n",
       "      <th>pc_1</th>\n",
       "      <th>pc_2</th>\n",
       "      <th>pc_3</th>\n",
       "      <th>pc_4</th>\n",
       "      <th>pc_5</th>\n",
       "      <th>pc_6</th>\n",
       "      <th>pc_7</th>\n",
       "      <th>pc_8</th>\n",
       "      <th>pc_9</th>\n",
       "      <th>pc_10</th>\n",
       "      <th>pc_11</th>\n",
       "      <th>pc_12</th>\n",
       "      <th>pc_13</th>\n",
       "      <th>pc_14</th>\n",
       "      <th>pc_15</th>\n",
       "      <th>accent</th>\n",
       "    </tr>\n",
       "  </thead>\n",
       "  <tbody>\n",
       "    <tr>\n",
       "      <th>0</th>\n",
       "      <td>4.730873</td>\n",
       "      <td>-0.938264</td>\n",
       "      <td>0.803289</td>\n",
       "      <td>0.653869</td>\n",
       "      <td>-1.910947</td>\n",
       "      <td>1.060526</td>\n",
       "      <td>0.272591</td>\n",
       "      <td>0.228187</td>\n",
       "      <td>-1.849657</td>\n",
       "      <td>-0.926916</td>\n",
       "      <td>-0.589109</td>\n",
       "      <td>0.078391</td>\n",
       "      <td>-0.344377</td>\n",
       "      <td>-0.606009</td>\n",
       "      <td>-0.219336</td>\n",
       "      <td>3</td>\n",
       "    </tr>\n",
       "    <tr>\n",
       "      <th>1</th>\n",
       "      <td>-0.503401</td>\n",
       "      <td>0.648680</td>\n",
       "      <td>1.019831</td>\n",
       "      <td>-0.003264</td>\n",
       "      <td>-1.622563</td>\n",
       "      <td>-0.075844</td>\n",
       "      <td>-2.555218</td>\n",
       "      <td>0.370910</td>\n",
       "      <td>0.055164</td>\n",
       "      <td>1.070641</td>\n",
       "      <td>0.766827</td>\n",
       "      <td>0.168254</td>\n",
       "      <td>-0.672188</td>\n",
       "      <td>-2.043565</td>\n",
       "      <td>1.112279</td>\n",
       "      <td>3</td>\n",
       "    </tr>\n",
       "    <tr>\n",
       "      <th>2</th>\n",
       "      <td>-0.945219</td>\n",
       "      <td>-1.658580</td>\n",
       "      <td>1.872996</td>\n",
       "      <td>-0.301826</td>\n",
       "      <td>-0.634333</td>\n",
       "      <td>-2.373914</td>\n",
       "      <td>-1.334518</td>\n",
       "      <td>-0.435192</td>\n",
       "      <td>-0.622313</td>\n",
       "      <td>0.597759</td>\n",
       "      <td>0.663406</td>\n",
       "      <td>-1.476097</td>\n",
       "      <td>-0.948407</td>\n",
       "      <td>0.166941</td>\n",
       "      <td>0.185054</td>\n",
       "      <td>3</td>\n",
       "    </tr>\n",
       "    <tr>\n",
       "      <th>3</th>\n",
       "      <td>-0.580839</td>\n",
       "      <td>-0.339014</td>\n",
       "      <td>3.064911</td>\n",
       "      <td>-1.407707</td>\n",
       "      <td>-0.694717</td>\n",
       "      <td>-0.990216</td>\n",
       "      <td>0.845904</td>\n",
       "      <td>2.141459</td>\n",
       "      <td>-0.800165</td>\n",
       "      <td>1.071001</td>\n",
       "      <td>-0.917976</td>\n",
       "      <td>0.446790</td>\n",
       "      <td>-0.766731</td>\n",
       "      <td>0.383237</td>\n",
       "      <td>1.277413</td>\n",
       "      <td>3</td>\n",
       "    </tr>\n",
       "    <tr>\n",
       "      <th>4</th>\n",
       "      <td>-0.442646</td>\n",
       "      <td>-0.610533</td>\n",
       "      <td>-0.991730</td>\n",
       "      <td>0.430035</td>\n",
       "      <td>0.273422</td>\n",
       "      <td>1.425935</td>\n",
       "      <td>0.937276</td>\n",
       "      <td>-0.674120</td>\n",
       "      <td>0.162651</td>\n",
       "      <td>0.925280</td>\n",
       "      <td>-0.308979</td>\n",
       "      <td>-0.963858</td>\n",
       "      <td>0.020746</td>\n",
       "      <td>-0.596849</td>\n",
       "      <td>0.583447</td>\n",
       "      <td>3</td>\n",
       "    </tr>\n",
       "  </tbody>\n",
       "</table>\n",
       "</div>"
      ],
      "text/plain": [
       "       pc_1      pc_2      pc_3      pc_4      pc_5      pc_6      pc_7  \\\n",
       "0  4.730873 -0.938264  0.803289  0.653869 -1.910947  1.060526  0.272591   \n",
       "1 -0.503401  0.648680  1.019831 -0.003264 -1.622563 -0.075844 -2.555218   \n",
       "2 -0.945219 -1.658580  1.872996 -0.301826 -0.634333 -2.373914 -1.334518   \n",
       "3 -0.580839 -0.339014  3.064911 -1.407707 -0.694717 -0.990216  0.845904   \n",
       "4 -0.442646 -0.610533 -0.991730  0.430035  0.273422  1.425935  0.937276   \n",
       "\n",
       "       pc_8      pc_9     pc_10     pc_11     pc_12     pc_13     pc_14  \\\n",
       "0  0.228187 -1.849657 -0.926916 -0.589109  0.078391 -0.344377 -0.606009   \n",
       "1  0.370910  0.055164  1.070641  0.766827  0.168254 -0.672188 -2.043565   \n",
       "2 -0.435192 -0.622313  0.597759  0.663406 -1.476097 -0.948407  0.166941   \n",
       "3  2.141459 -0.800165  1.071001 -0.917976  0.446790 -0.766731  0.383237   \n",
       "4 -0.674120  0.162651  0.925280 -0.308979 -0.963858  0.020746 -0.596849   \n",
       "\n",
       "      pc_15  accent  \n",
       "0 -0.219336       3  \n",
       "1  1.112279       3  \n",
       "2  0.185054       3  \n",
       "3  1.277413       3  \n",
       "4  0.583447       3  "
      ]
     },
     "execution_count": 197,
     "metadata": {},
     "output_type": "execute_result"
    }
   ],
   "source": [
    "finalDf.head()"
   ]
  },
  {
   "cell_type": "code",
   "execution_count": 198,
   "metadata": {},
   "outputs": [
    {
     "data": {
      "text/plain": [
       "(53209, 16)"
      ]
     },
     "execution_count": 198,
     "metadata": {},
     "output_type": "execute_result"
    }
   ],
   "source": [
    "indexed_df=finalDf.reset_index(drop=True, inplace=False)\n",
    "indexed_df.shape"
   ]
  },
  {
   "cell_type": "markdown",
   "metadata": {},
   "source": [
    "### **Data spliting**"
   ]
  },
  {
   "cell_type": "code",
   "execution_count": 199,
   "metadata": {},
   "outputs": [],
   "source": [
    "from sklearn.model_selection import train_test_split\n",
    "\n",
    "X = indexed_df.drop(columns=['accent'])\n",
    "y = indexed_df['accent']\n",
    "\n",
    "X_train, X_test, y_train, y_test = train_test_split(X, y, test_size=0.2, random_state=42)"
   ]
  },
  {
   "cell_type": "markdown",
   "metadata": {},
   "source": [
    "# **KNN Classifier**"
   ]
  },
  {
   "cell_type": "markdown",
   "metadata": {},
   "source": [
    "Training data and test data split:"
   ]
  },
  {
   "cell_type": "code",
   "execution_count": 200,
   "metadata": {},
   "outputs": [
    {
     "name": "stdout",
     "output_type": "stream",
     "text": [
      "Best hyperparameters found:\n",
      "{'clf__n_neighbors': 3, 'clf__weights': 'distance'}\n"
     ]
    }
   ],
   "source": [
    "absolute_path = os.path.join(os.getcwd(), '../models', 'knn.pkl')\n",
    "\n",
    "if os.path.exists(absolute_path):\n",
    "    print('File exists...')\n",
    "    grid_search_knn = joblib.load(absolute_path)\n",
    "else :\n",
    "\n",
    "    clf = KNeighborsClassifier()\n",
    "\n",
    "    pipeline = Pipeline([\n",
    "        ('clf', clf)\n",
    "    ])\n",
    "\n",
    "    param_grid = {\n",
    "        'clf__n_neighbors': [3, 5, 7],      # Number of neighbors to use\n",
    "        'clf__weights': ['uniform', 'distance'],  # Weight function used in prediction\n",
    "    }\n",
    "\n",
    "    grid_search_knn = GridSearchCV(pipeline, param_grid, cv=5, n_jobs=-1)\n",
    "\n",
    "    grid_search_knn.fit(X_train, y_train)\n",
    "\n",
    "    print(\"Best hyperparameters found:\")\n",
    "    print(grid_search_knn.best_params_)\n",
    "    best_rdf = grid_search_knn.best_estimator_\n",
    "    joblib.dump(best_rdf, '../models/knn.pkl')"
   ]
  },
  {
   "cell_type": "code",
   "execution_count": 201,
   "metadata": {},
   "outputs": [
    {
     "name": "stdout",
     "output_type": "stream",
     "text": [
      "Accuracy: 0.8602706258222139\n",
      "Precision: [0.80253623 0.8762921  0.86068111 0.83957553]\n",
      "Recall: [0.57420609 0.94498382 0.84030227 0.86662371]\n",
      "F1: [0.6694371  0.90934256 0.85036962 0.85288523]\n"
     ]
    }
   ],
   "source": [
    "y_pred = grid_search_knn.predict(X_test)\n",
    "\n",
    "print(f'Accuracy: {accuracy_score(y_test, y_pred)}')\n",
    "print(f'Precision: {precision_score(y_test, y_pred, average=None)}')\n",
    "print(f'Recall: {recall_score(y_test, y_pred, average=None)}')\n",
    "print(f'F1: {f1_score(y_test, y_pred, average=None)}')"
   ]
  },
  {
   "cell_type": "markdown",
   "metadata": {},
   "source": [
    "# **Random Forest Classifier**"
   ]
  },
  {
   "cell_type": "code",
   "execution_count": 202,
   "metadata": {},
   "outputs": [
    {
     "name": "stdout",
     "output_type": "stream",
     "text": [
      "Mejores hiperparámetros encontrados:\n",
      "{'clf__max_depth': None, 'clf__n_estimators': 100}\n"
     ]
    }
   ],
   "source": [
    "from sklearn.model_selection import GridSearchCV\n",
    "from sklearn.pipeline import Pipeline\n",
    "from sklearn.ensemble import RandomForestClassifier\n",
    "\n",
    "clf = RandomForestClassifier()\n",
    "\n",
    "absolute_path = os.path.join(os.getcwd(), '../models', 'randomForest.pkl')\n",
    "\n",
    "if os.path.exists(absolute_path):\n",
    "    print('File exists...')\n",
    "    grid_search_rdf = joblib.load(absolute_path)\n",
    "else :\n",
    "    # Definir el pipeline con un paso de escalamiento (si es necesario) y el clasificador\n",
    "    pipeline = Pipeline([\n",
    "        ('scaler', StandardScaler()),  # Escalar los datos si es necesario\n",
    "        ('clf', clf)\n",
    "    ])\n",
    "\n",
    "    # Definir los parámetros que deseas ajustar\n",
    "    param_grid = {\n",
    "        'clf__n_estimators': [10, 50, 100],  # Número de árboles en el bosque\n",
    "        'clf__max_depth': [None, 10, 20],      # Profundidad máxima de cada árbol\n",
    "    }\n",
    "\n",
    "    # Realizar la búsqueda de la cuadrícula utilizando GridSearchCV\n",
    "    grid_search_rdf = GridSearchCV(pipeline, param_grid, cv=5, n_jobs=-1)\n",
    "\n",
    "    # Ajustar el modelo a los datos de entrenamiento\n",
    "    grid_search_rdf.fit(X_train, y_train)\n",
    "\n",
    "    # Mostrar los mejores hiperparámetros encontrados\n",
    "    print(\"Mejores hiperparámetros encontrados:\")\n",
    "    print(grid_search_rdf.best_params_)\n",
    "\n",
    "    best_rdf = grid_search_rdf.best_estimator_\n",
    "    joblib.dump(best_rdf, '../models/randomForest.pkl')\n"
   ]
  },
  {
   "cell_type": "markdown",
   "metadata": {},
   "source": [
    "Metrics:"
   ]
  },
  {
   "cell_type": "code",
   "execution_count": 203,
   "metadata": {},
   "outputs": [
    {
     "name": "stdout",
     "output_type": "stream",
     "text": [
      "Accuracy: 0.7516444277391467\n",
      "Precision: [0.8317757  0.71084021 0.80960648 0.957993  ]\n",
      "Recall: [0.23071938 0.97500899 0.70478589 0.52899485]\n",
      "F1: [0.36123795 0.82222728 0.75356854 0.68161063]\n"
     ]
    }
   ],
   "source": [
    "y_pred = grid_search_rdf.predict(X_test)\n",
    "\n",
    "print(f'Accuracy: {accuracy_score(y_test, y_pred)}')\n",
    "print(f'Precision: {precision_score(y_test, y_pred, average=None)}')\n",
    "print(f'Recall: {recall_score(y_test, y_pred, average=None)}')\n",
    "print(f'F1: {f1_score(y_test, y_pred, average=None)}')"
   ]
  },
  {
   "cell_type": "markdown",
   "metadata": {},
   "source": [
    "# **Random Forest Classifier**"
   ]
  },
  {
   "cell_type": "code",
   "execution_count": 204,
   "metadata": {},
   "outputs": [
    {
     "name": "stdout",
     "output_type": "stream",
     "text": [
      "Best hyperparameters found:\n",
      "{'clf__learning_rate': 0.1, 'clf__max_depth': 7, 'clf__n_estimators': 200, 'clf__subsample': 0.8}\n"
     ]
    }
   ],
   "source": [
    "import xgboost as xgb\n",
    "from xgboost import XGBClassifier\n",
    "\n",
    "\n",
    "absolute_path = os.path.join(os.getcwd(), '../models', 'xgboost.pkl')\n",
    "\n",
    "if os.path.exists(absolute_path):\n",
    "    print('File exists...')\n",
    "    grid_search_knn = joblib.load(absolute_path)\n",
    "else :\n",
    "    \n",
    "    clf = XGBClassifier(use_label_encoder=False, eval_metric='mlogloss')\n",
    "\n",
    "    # Crear el pipeline\n",
    "    pipeline = Pipeline([\n",
    "        ('clf', clf)\n",
    "    ])\n",
    "\n",
    "    # Definir la rejilla de parámetros para la búsqueda\n",
    "    param_grid = {\n",
    "        'clf__n_estimators': [100, 200],  # Número de árboles\n",
    "        'clf__learning_rate': [0.01, 0.1],  # Tasa de aprendizaje\n",
    "        'clf__max_depth': [3, 5, 7],  # Profundidad máxima del árbol\n",
    "        'clf__subsample': [0.8, 1.0],  # Proporción de muestras para entrenar cada árbol\n",
    "    }\n",
    "\n",
    "    # Crear la búsqueda en rejilla\n",
    "    grid_search_xgb = GridSearchCV(pipeline, param_grid, cv=5, n_jobs=-1)\n",
    "\n",
    "    # Entrenar el modelo con los datos de entrenamiento\n",
    "    grid_search_xgb.fit(X_train, y_train)\n",
    "\n",
    "    # Imprimir los mejores hiperparámetros encontrados\n",
    "    print(\"Best hyperparameters found:\")\n",
    "    print(grid_search_xgb.best_params_)\n",
    "\n",
    "    # Obtener el mejor estimador\n",
    "    best_xgb = grid_search_xgb.best_estimator_\n",
    "\n",
    "    # Guardar el mejor modelo entrenado\n",
    "    joblib.dump(best_xgb, '../models/xgboost.pkl')\n",
    "    "
   ]
  },
  {
   "cell_type": "code",
   "execution_count": 205,
   "metadata": {},
   "outputs": [
    {
     "name": "stdout",
     "output_type": "stream",
     "text": [
      "Accuracy: 0.7631084382634843\n",
      "Precision: [0.67882188 0.75284623 0.76675325 0.87981221]\n",
      "Recall: [0.31367466 0.93923049 0.74357683 0.60373711]\n",
      "F1: [0.42907801 0.83577314 0.75498721 0.71608712]\n"
     ]
    }
   ],
   "source": [
    "y_pred = grid_search_xgb.predict(X_test)\n",
    "\n",
    "print(f'Accuracy: {accuracy_score(y_test, y_pred)}')\n",
    "print(f'Precision: {precision_score(y_test, y_pred, average=None)}')\n",
    "print(f'Recall: {recall_score(y_test, y_pred, average=None)}')\n",
    "print(f'F1: {f1_score(y_test, y_pred, average=None)}')"
   ]
  },
  {
   "cell_type": "markdown",
   "metadata": {},
   "source": [
    "# Deployment Plan\n",
    "\n",
    "In an increasingly interconnected world, effective communication has become an invaluable skill. In the realm of the English language, where a wide variety of accents and dialects coexist, understanding and adapting to different ways of speaking are essential for successful communication. With the aim of facilitating this process of understanding and adaptation, the \"Neutral Accent\" project has been developed, an educational application that seeks to help users approximate a more neutral accent in the English language. \n",
    "\n",
    "### Objectives\n",
    "The main objective of deploying \"Neutral Accent\" is to make available to the public an interactive educational application that facilitates improvement in English pronunciation and approximation to a more neutral accent. Techniques of artificial intelligence and audio signal processing will be utilized to analyze and classify the accents present in audio files.\n",
    "\n",
    "### Feasibility\n",
    "The deployment of the project is based on the availability of artificial intelligence and audio signal processing technologies, as well as access to high-quality training data. There is a growing demand for educational applications that help improve English pronunciation, which supports the feasibility of the project. However, it will face competition in the market of educational and language learning applications.\n",
    "\n",
    "### Scalability\n",
    "The \"Neutral Accent\" project is designed to be scalable, allowing for horizontal expansion of its architecture to encompass a large number of users. Measures will be implemented to ensure that the application can handle an increase in the number of users without compromising its performance.\n",
    "\n",
    "### Niche\n",
    "The target audience of \"Neutral Accent\" includes users seeking to improve their English pronunciation for academic, professional, or personal purposes, as well as educational institutions wishing to incorporate language learning tools into their curriculum. Additionally, professionals working in international environments who wish to enhance their communication skills in English may benefit from this application.\n",
    "\n",
    "### Security Implications\n",
    "The deployment of \"Neutral Accent\" will require security measures to protect users' personal and sensitive data, such as audio files and registration data. Security protocols will be implemented, and regulations and data privacy standards, such as GDPR and CCPA, will be complied with to ensure the protection of users' privacy.\n",
    "\n",
    "### Ethical Implications\n",
    "Special attention will be given to the ethical implications of the \"Neutral Accent\" project. Accuracy and impartiality in accent classification will be ensured to avoid discriminatory biases. Furthermore, users' privacy and rights in handling their personal data will be respected, and constructive and positive feedback will be provided to foster learning and personal development. Linguistic and cultural diversity will be promoted, and the stigmatization of certain accents or dialects will be avoided at all stages of the application's development and deployment."
   ]
  }
 ],
 "metadata": {
  "kernelspec": {
   "display_name": "venv",
   "language": "python",
   "name": "python3"
  },
  "language_info": {
   "codemirror_mode": {
    "name": "ipython",
    "version": 3
   },
   "file_extension": ".py",
   "mimetype": "text/x-python",
   "name": "python",
   "nbconvert_exporter": "python",
   "pygments_lexer": "ipython3",
   "version": "3.11.7"
  }
 },
 "nbformat": 4,
 "nbformat_minor": 2
}
